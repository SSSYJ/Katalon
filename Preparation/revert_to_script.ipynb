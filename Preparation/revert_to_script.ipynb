{
 "cells": [
  {
   "cell_type": "code",
   "execution_count": 1,
   "id": "1820b297-560c-4134-a7af-266054fa7bea",
   "metadata": {},
   "outputs": [],
   "source": [
    "import random\n",
    "import numpy as np\n",
    "import pandas as pd\n",
    "import re\n",
    "import spacy\n",
    "from get_object_path import get_object_path\n",
    "\n",
    "nlp = spacy.load(\"en_core_web_md\")"
   ]
  },
  {
   "cell_type": "code",
   "execution_count": 2,
   "id": "21d821ae-7aac-43f9-9a18-5fbbde48be7d",
   "metadata": {},
   "outputs": [],
   "source": [
    "# !python -m spacy download en_core_web_md "
   ]
  },
  {
   "cell_type": "code",
   "execution_count": 3,
   "id": "23206cea-e796-4b06-8a2b-3dc82e965b72",
   "metadata": {},
   "outputs": [],
   "source": [
    "df = pd.read_csv('test.csv')"
   ]
  },
  {
   "cell_type": "markdown",
   "id": "85e7054f-5baa-4587-bc36-94275ccdcf75",
   "metadata": {
    "tags": []
   },
   "source": [
    "### Get WebUI function with objects as arguments"
   ]
  },
  {
   "cell_type": "code",
   "execution_count": 4,
   "id": "0613c5b5-f136-4986-b680-8717852f34cb",
   "metadata": {},
   "outputs": [],
   "source": [
    "# # Get fun_obj_dict\n",
    "# def update_func_obj_dict(script, func_obj_dict):\n",
    "#     lines = script.split('\\n')\n",
    "#     func_name_pattern = re.compile('WebUI\\.([a-zA-Z]*)(.*)')\n",
    "#     obj_pattern = re.compile('[^\\']*findTestObject*\\((\\'([^\\']*)\\')+.*')\n",
    "#     for line in lines:\n",
    "#         result = func_name_pattern.search(line)\n",
    "#         if result:\n",
    "#             func_name = result.group(1)\n",
    "#             obj_result = obj_pattern.search(result.group(2))\n",
    "#             if obj_result:\n",
    "#                 obj = obj_result.group(2)\n",
    "#                 obj = '/'.join(obj.split('/')[-2:])\n",
    "#                 if func_name in func_obj_dict:\n",
    "#                     func_obj_dict[func_name].add(obj)\n",
    "#                 else:\n",
    "#                     obj_set = set()\n",
    "#                     obj_set.add(obj)\n",
    "#                     func_obj_dict[func_name] = obj_set\n",
    "#         else:\n",
    "#             continue\n",
    "\n",
    "#     return func_obj_dict"
   ]
  },
  {
   "cell_type": "code",
   "execution_count": 5,
   "id": "95c37aae-dfd9-4495-beb1-9d2bfbf2f1eb",
   "metadata": {},
   "outputs": [],
   "source": [
    "# def get_func_obj_dict(df):\n",
    "#     func_obj_dict = {}\n",
    "#     for script in df['test_scripts']:\n",
    "#         if script is np.NaN:\n",
    "#             continue\n",
    "#         func_obj_dict = update_func_obj_dict(script, func_obj_dict)\n",
    "#     return func_obj_dict"
   ]
  },
  {
   "cell_type": "code",
   "execution_count": 6,
   "id": "f4d1ee80-8fb1-49ce-9b94-1186df69a566",
   "metadata": {
    "tags": []
   },
   "outputs": [],
   "source": [
    "# func_obj_dict = get_func_obj_dict(df)\n",
    "# # func_obj_dict"
   ]
  },
  {
   "cell_type": "markdown",
   "id": "aab5ae95-6154-46c7-a149-08fc8b3b3b95",
   "metadata": {},
   "source": [
    "### Revert back to scripts"
   ]
  },
  {
   "cell_type": "code",
   "execution_count": 7,
   "id": "bbaa27b7-3f40-4a9e-9571-c075177b179a",
   "metadata": {},
   "outputs": [
    {
     "data": {
      "text/plain": [
       "{'input': 'setText',\n",
       " 'enter': 'setText',\n",
       " 'click': 'click',\n",
       " 'wait': 'waitForElementPresent',\n",
       " 'get': 'getText',\n",
       " 'check': 'verifyMatch'}"
      ]
     },
     "execution_count": 7,
     "metadata": {},
     "output_type": "execute_result"
    }
   ],
   "source": [
    "func_verb_alignment = {\n",
    "    'setText': {'enter', 'input'},\n",
    "    'click': {'click'},\n",
    "    'waitForElementPresent': {'wait'},\n",
    "    'getText': {'get'},\n",
    "    'verifyMatch': {'check'}\n",
    "}\n",
    "\n",
    "verb_func_alignment = {}\n",
    "for func, verbs in func_verb_alignment.items():\n",
    "    for verb in verbs:\n",
    "        verb_func_alignment[verb] = func\n",
    "verb_func_alignment"
   ]
  },
  {
   "cell_type": "markdown",
   "id": "d2a67b66-ef76-4f48-9883-595eb7da67f0",
   "metadata": {},
   "source": [
    "### Action_widgets"
   ]
  },
  {
   "cell_type": "code",
   "execution_count": 8,
   "id": "ebee8489-a793-4927-92fe-c17b5b437855",
   "metadata": {},
   "outputs": [],
   "source": [
    "# path_dict = defaultdict(lambda: defaultdict(set))\n",
    "# for values in func_obj_dict.values():\n",
    "#     for value in values:\n",
    "#         get_path_list = value.split('/')\n",
    "#         path = '/'.join(get_path_list[0:-1])\n",
    "#         get_element_list = get_path_list[-1].split('_')\n",
    "#         element = get_element_list[1:]\n",
    "#         if len(get_element_list) > 1:\n",
    "#             element = '_'.join(get_element_list[1:])\n",
    "#             path_dict[path][element].add(value)\n",
    "#         else:\n",
    "#             element = get_element_list[0]\n",
    "#             path_dict[path][element].add(value)\n",
    "\n",
    "\n",
    "# def page_str_modifier(page):\n",
    "#     if len(page.split('/')) > 1:\n",
    "#         page = ''.join(page.split('/')[1:])\n",
    "#         page = ''.join(page.split('_'))\n",
    "#     else:\n",
    "#         page = ''.join(page.split('_'))[1:]\n",
    "#     page = ' '.join(re.findall('[A-Z][a-z]+', page))\n",
    "#     return page\n",
    "\n",
    "\n",
    "# def location_modifier(location):\n",
    "#     location = ' '.join(location.split('_'))\n",
    "#     all_list = (re.findall('[A-Z]*[a-z]*', location))\n",
    "#     starter = ''\n",
    "#     for string in all_list:\n",
    "#         if string == '':\n",
    "#             continue\n",
    "#         else:\n",
    "#             starter += string + ' ' \n",
    "#     return starter.rstrip()"
   ]
  },
  {
   "cell_type": "code",
   "execution_count": 9,
   "id": "21b215aa-7551-467f-87bf-646d28808c0d",
   "metadata": {},
   "outputs": [],
   "source": [
    "# action_widget = func_obj_dict.copy()\n",
    "# action_widget['enter'] = action_widget.pop('setText')\n",
    "# action_widget['input'] = action_widget['enter']\n",
    "\n",
    "# action_widget['wait'] = set()\n",
    "# for key in action_widget.keys():\n",
    "#     if 'wait' in key.lower():\n",
    "#         action_widget['wait'].update((action_widget[key]))\n",
    "\n",
    "# action_widget['get'] = action_widget.pop('getText')\n",
    "\n",
    "# alternate_dict = defaultdict(lambda: defaultdict(set))\n",
    "# for key in path_dict.keys():\n",
    "#     for values in path_dict[key].values():\n",
    "#         for value in values:\n",
    "#             key_list = value.split('/')[-1].split('_')\n",
    "#             if len(key_list) == 1:\n",
    "#                 key_list = key_list[0].split('-')\n",
    "#             key_value = '_'.join(key_list[1:])\n",
    "#             page_list = value.split('/')[0:-1]\n",
    "#             page_value = '/'.join(page_list)\n",
    "#             alternate_dict[location_modifier(key_value)][page_str_modifier(page_value)].add(value)"
   ]
  },
  {
   "cell_type": "markdown",
   "id": "5b1a16e9-03e3-4bba-827f-3ac2cce76944",
   "metadata": {},
   "source": [
    "### Find obj path"
   ]
  },
  {
   "cell_type": "code",
   "execution_count": 10,
   "id": "5f474425-638f-4ee6-82a0-edb8eb95f10c",
   "metadata": {},
   "outputs": [],
   "source": [
    "# def get_page(page):\n",
    "#     max_sim = -np.inf\n",
    "#     max_key = ''\n",
    "#     for key in path_dict.keys():\n",
    "#         similarity = nlp(page).similarity(nlp(page_str_modifier(key)))\n",
    "#         if similarity > max_sim:\n",
    "#             max_sim = similarity\n",
    "#             max_key = key\n",
    "#     return max_key\n",
    "\n",
    "\n",
    "# def get_location(page, location):\n",
    "#     min_dist = np.inf\n",
    "#     min_key = ''\n",
    "#     for key in path_dict[page].keys():\n",
    "#         distance = Levenshtein.distance(location, key.lower())\n",
    "#         if distance < min_dist:\n",
    "#             min_dist = distance\n",
    "#             min_key = key\n",
    "#     return min_key\n",
    "\n",
    "\n",
    "# def get_alternate_location(location):\n",
    "#     max_sim = -np.inf\n",
    "#     max_key = ''\n",
    "#     for key in alternate_dict.keys():\n",
    "#         similarity = nlp(location.lower()).similarity(nlp(key.lower()))\n",
    "#         if similarity > max_sim:\n",
    "#             max_sim = similarity\n",
    "#             max_key = key\n",
    "#     return max_key\n",
    "\n",
    "\n",
    "# def get_alternate_page(location, page):\n",
    "#     max_sim = -np.inf\n",
    "#     max_key = ''\n",
    "#     for key in alternate_dict[location].keys():\n",
    "#         similarity = nlp(page.lower()).similarity(nlp(key.lower()))\n",
    "#         if similarity > max_sim:\n",
    "#             max_sim = similarity\n",
    "#             max_key = key\n",
    "#     return max_key\n",
    "\n",
    "\n",
    "# def get_obj_path(parsed_test_case):\n",
    "#     page = get_page(parsed_test_case['page'])\n",
    "#     if 'location' in parsed_test_case.keys():\n",
    "#         location = get_location(page, parsed_test_case['location'])\n",
    "#     else:\n",
    "#         location = get_location(page, parsed_test_case['value'])\n",
    "#     for element in path_dict[page][location]:\n",
    "#         if element in action_widget[parsed_test_case['V']]:\n",
    "# #             return element\n",
    "#             return f'findTestObject(\\'{element}\\')'\n",
    "#         else:\n",
    "#             if 'location' in parsed_test_case.keys():\n",
    "#                 location = get_alternate_location(parsed_test_case['location'])\n",
    "#             else:\n",
    "#                 location = get_alternate_location(parsed_test_case['value'])\n",
    "#             page = get_alternate_page(location, parsed_test_case['page'])\n",
    "#             for element in alternate_dict[location][page]:\n",
    "#                 if element in action_widget[parsed_test_case['V']]:\n",
    "# #                     return element\n",
    "#                     return f'findTestObject(\\'{element}\\')'\n",
    "#                 else:\n",
    "#                     return 'Unidentified'"
   ]
  },
  {
   "cell_type": "markdown",
   "id": "7cf4876f-b2a4-4b2d-9b3d-f56bac5d0775",
   "metadata": {},
   "source": [
    "### Reformat output of object_path"
   ]
  },
  {
   "cell_type": "code",
   "execution_count": 11,
   "id": "39c51fd6-b2e0-418c-974d-bbf80a933da7",
   "metadata": {},
   "outputs": [],
   "source": [
    "def obj_path(test_case_dict):\n",
    "    output = get_object_path(test_case_dict)\n",
    "\n",
    "    if type(output) == 'set':\n",
    "        print(output)\n",
    "        return random.sample(output, 1)\n",
    "    else:\n",
    "        return f'findTestObject(\\'{output}\\')'"
   ]
  },
  {
   "cell_type": "markdown",
   "id": "9e0de65d-9ce7-4dda-87a5-b01406c4cd5a",
   "metadata": {},
   "source": [
    "### Alignment"
   ]
  },
  {
   "cell_type": "code",
   "execution_count": 12,
   "id": "4dcd2f72-5649-42c4-9930-0ddf1f027bd1",
   "metadata": {},
   "outputs": [],
   "source": [
    "def align_one_line_to_script(test_case_dict):\n",
    "    # Get aligned WebUI function\n",
    "    action = test_case_dict['V']\n",
    "    if action in verb_func_alignment:\n",
    "        fun = verb_func_alignment[action]\n",
    "    else:\n",
    "        max_sim = -np.inf\n",
    "        for verb in verb_func_alignment:\n",
    "            similarity = nlp(action).similarity(nlp(verb))\n",
    "            if similarity > max_sim:\n",
    "                max_sim = similarity\n",
    "                fun = verb_func_alignment[verb]\n",
    "\n",
    "    # Get arguments for the WebUI function\n",
    "    args = []\n",
    "\n",
    "    if fun == 'setText':\n",
    "        arg1 = obj_path(test_case_dict)\n",
    "        arg2 = f\"'{test_case_dict['value']}'\"\n",
    "        args = [arg1, arg2]\n",
    "    if fun == 'click':\n",
    "        arg1 = obj_path(test_case_dict)\n",
    "        args = [arg1]\n",
    "    if fun == 'waitForElementPresent':\n",
    "        arg1 = obj_path(test_case_dict)\n",
    "        args = [arg1, str(test_case_dict['time']), 'FailureHandling.STOP_ON_FAILURE']\n",
    "    if fun == 'getText':\n",
    "        args = [obj_path(test_case_dict)]\n",
    "#     if fun == 'verifyMatch':\n",
    "#         args = [test_case_dict['page'], test_case_dict['page'], 'false']\n",
    "\n",
    "    script_dict = {\"action\": fun, \"entities\": args}\n",
    "\n",
    "    # Get variable\n",
    "    if fun == 'getText':\n",
    "        obj = args[-1].split('\\'')[-2].split('_')[-1]\n",
    "        script_dict['var_name'] = 'actual' + obj\n",
    "        script_dict['var_type'] = 'def'\n",
    "\n",
    "    return script_dict"
   ]
  },
  {
   "cell_type": "code",
   "execution_count": 13,
   "id": "f98cac93-8b7c-42ee-8685-73b4d66dbb28",
   "metadata": {},
   "outputs": [
    {
     "data": {
      "text/plain": [
       "{'action': 'setText',\n",
       " 'entities': [\"findTestObject('Page_Login/tbx_Email')\", \"'invalid@wrong'\"]}"
      ]
     },
     "execution_count": 13,
     "metadata": {},
     "output_type": "execute_result"
    }
   ],
   "source": [
    "align_one_line_to_script({'V': 'input',\n",
    "       'location': 'to email textbox',\n",
    "       'value': 'invalid@wrong',\n",
    "       'page': 'login'})"
   ]
  },
  {
   "cell_type": "markdown",
   "id": "578511f0-6417-435f-a611-11d726c54b27",
   "metadata": {},
   "source": [
    "### Revert to scripts"
   ]
  },
  {
   "cell_type": "code",
   "execution_count": 14,
   "id": "6ccd17ad-41c7-49db-896c-fb9824db76c2",
   "metadata": {},
   "outputs": [],
   "source": [
    "def revert_to_script_dicts(test_case):\n",
    "    script_dicts = []\n",
    "    for line_dict in test_case:\n",
    "        if line_dict['V'] not in verb_func_alignment:\n",
    "            continue\n",
    "        script_dict = align_one_line_to_script(line_dict)\n",
    "        script_dicts.append(script_dict)\n",
    "    return script_dicts\n",
    "\n",
    "\n",
    "def revert_to_script(script_dicts):\n",
    "    script = []\n",
    "    variables = {}\n",
    "    for line_dict in script_dicts:\n",
    "        line = f\"WebUI.{line_dict['action']}({', '.join(line_dict['entities'])})\"\n",
    "        if line_dict['action'] == 'verifyMatch':\n",
    "            actual = variables['getText']\n",
    "            expected = actual.replace(\"actual\", \"expected\")\n",
    "            line = f\"WebUI.{line_dict['action']}({actual}, {expected}, false)\"\n",
    "\n",
    "        if 'var_name' in line_dict:\n",
    "            line = f\"{line_dict['var_type']} {line_dict['var_name']} = {line}\"\n",
    "            variables[line_dict['action']] = line_dict['var_name']\n",
    "\n",
    "        script.append(line)\n",
    "    return '\\n'.join(script)"
   ]
  },
  {
   "cell_type": "markdown",
   "id": "80bf3399-c1d3-4c2a-be08-50aa472b1190",
   "metadata": {},
   "source": [
    "### Test first 8 cases"
   ]
  },
  {
   "cell_type": "code",
   "execution_count": 15,
   "id": "cf84639b-8928-456d-8566-91de88f7e621",
   "metadata": {},
   "outputs": [],
   "source": [
    "test_cases = [\n",
    "    [{'V': 'enter',\n",
    "       'location': 'to email textbox',\n",
    "       'value': 'admin1@mail.com',\n",
    "       'page': 'login'},\n",
    "      {'V': 'enter',\n",
    "       'location': 'to password textbox',\n",
    "       'value': 'Admin@123',\n",
    "       'page': 'login'},\n",
    "      {'V': 'click', 'value': 'Login', 'page': 'login'},\n",
    "      {'V': 'wait',\n",
    "       'value': 'title to be present for seconds',\n",
    "       'time': 30,\n",
    "       'page': 'login'}],\n",
    "     [{'V': 'enter',\n",
    "       'location': 'to email textbox',\n",
    "       'value': 'invalid@wrong',\n",
    "       'page': 'login'},\n",
    "      {'V': 'enter',\n",
    "       'location': 'to password textbox',\n",
    "       'value': 'invalidpassword',\n",
    "       'page': 'login'},\n",
    "      {'V': 'click', 'value': 'Login', 'page': 'login'},\n",
    "      {'V': 'wait',\n",
    "       'value': 'email error message to appear for seconds',\n",
    "       'time': 3,\n",
    "       'page': 'login'},\n",
    "      {'V': 'get', 'value': 'email error message', 'page': 'login'},\n",
    "      {'V': 'check', 'page': 'login'},\n",
    "      {'V': 'wait',\n",
    "       'value': 'password error message to appear for seconds',\n",
    "       'time': 3,\n",
    "       'page': 'login'},\n",
    "      {'V': 'get', 'value': 'password error message', 'page': 'login'},\n",
    "      {'V': 'check', 'page': 'login'}],\n",
    "     [{'V': 'click', 'value': 'the avatar', 'page': 'logout'},\n",
    "      {'V': 'click', 'value': 'Sign out', 'page': 'logout'},\n",
    "      {'V': 'wait', 'value': 'Login', 'time': 10, 'page': 'logout'}],\n",
    "     [{'V': 'click', 'value': \"user 's avatar\", 'page': 'change password'},\n",
    "      {'V': 'click', 'value': 'change password link', 'page': 'change password'},\n",
    "      {'V': 'wait',\n",
    "       'value': 'title to appear for s',\n",
    "       'time': 10,\n",
    "       'page': 'change password'},\n",
    "      {'V': 'enter',\n",
    "       'location': 'current password text box',\n",
    "       'value': 'Admin@123',\n",
    "       'page': 'change password'},\n",
    "      {'V': 'enter',\n",
    "       'location': 'new password text box',\n",
    "       'value': 'Admin@1234',\n",
    "       'page': 'change password'},\n",
    "      {'V': 'enter',\n",
    "       'location': 'to confirm password',\n",
    "       'value': 'Admin@1234',\n",
    "       'page': 'change password'},\n",
    "      {'V': 'click', 'value': 'submit', 'page': 'change password'}],\n",
    "#     [{'V': 'verify', 'page': 'Create Libraries'},\n",
    "#       {'V': 'verify', 'page': 'Create Libraries'},\n",
    "#       {'V': 'click', 'value': 'create library button', 'page': 'Create Libraries'},\n",
    "#       {'V': 'verify', 'page': 'Create Libraries'},\n",
    "#       {'V': 'input',\n",
    "#        'location': 'to the name field textbox',\n",
    "#        'value': 'new library',\n",
    "#        'page': 'Create Libraries'},\n",
    "#       {'V': 'click', 'value': 'submit button', 'page': 'Create Libraries'}],\n",
    "#      [{'V': 'verify', 'page': 'Create Libraries'},\n",
    "#       {'V': 'verify', 'page': 'Create Libraries'},\n",
    "#       {'V': 'click', 'value': 'Create Library', 'page': 'Create Libraries'},\n",
    "#       {'V': 'verify', 'page': 'Create Libraries'},\n",
    "#       {'V': 'set', 'page': 'Create Libraries'},\n",
    "#       {'V': 'click', 'value': 'Submit', 'page': 'Create Libraries'},\n",
    "#       {'V': 'wait',\n",
    "#        'value': 'for invalid message text to be present for s',\n",
    "#        'time': 20,\n",
    "#        'page': 'Create Libraries'},\n",
    "#       {'V': 'get', 'value': 'invalid message text', 'page': 'Create Libraries'},\n",
    "#       {'V': 'verify', 'page': 'Create Libraries'}],\n",
    "#      [{'V': 'wait',\n",
    "#        'value': 'Add Library',\n",
    "#        'time': 20,\n",
    "#        'page': 'Create Libraries'},\n",
    "#       {'V': 'click', 'value': 'Add Library', 'page': 'Create Libraries'},\n",
    "#       {'V': 'verify', 'page': 'Create Libraries'},\n",
    "#       {'V': 'set', 'page': 'Create Libraries'},\n",
    "#       {'V': 'click', 'value': 'Submit', 'page': 'Create Libraries'},\n",
    "#       {'V': 'wait',\n",
    "#        'value': 'for success message text to be present for s',\n",
    "#        'time': 20,\n",
    "#        'page': 'Create Libraries'},\n",
    "#       {'V': 'get', 'value': 'success message text', 'page': 'Create Libraries'},\n",
    "#       {'V': 'verify', 'page': 'Create Libraries'},\n",
    "#       {'V': 'verify', 'page': 'Create Libraries'},\n",
    "#       {'V': 'verify', 'page': 'Create Libraries'}],\n",
    "#      [{'V': 'click', 'value': 'Add Library', 'page': 'Create Libraries'},\n",
    "#       {'V': 'verify', 'page': 'Create Libraries'},\n",
    "#       {'V': 'click', 'value': 'Submit', 'page': 'Create Libraries'},\n",
    "#       {'V': 'wait',\n",
    "#        'value': 'for invalid message text to be present for s',\n",
    "#        'time': 20,\n",
    "#        'page': 'Create Libraries'},\n",
    "#       {'V': 'get', 'value': 'invalid message text', 'page': 'Create Libraries'},\n",
    "#       {'V': 'verify', 'page': 'Create Libraries'},\n",
    "#       {'V': 'click', 'value': 'Cancel', 'page': 'Create Libraries'}],\n",
    "#      [{'V': 'click',\n",
    "#        'value': 'library navigation item',\n",
    "#        'page': 'Create Libraries'},\n",
    "#       {'V': 'verify', 'page': 'Create Libraries'},\n",
    "#       {'V': 'verify', 'page': 'Create Libraries'},\n",
    "#       {'V': 'verify', 'page': 'Create Libraries'},\n",
    "#       {'V': 'verify', 'page': 'Create Libraries'},\n",
    "#       {'V': 'verify', 'page': 'Create Libraries'},\n",
    "#       {'V': 'click',\n",
    "#        'value': 'library navigation item',\n",
    "#        'page': 'Create Libraries'}],\n",
    "#      [{'V': 'click',\n",
    "#        'value': 'library name with rely on name',\n",
    "#        'page': 'Update Libraries'},\n",
    "#       {'V': 'click',\n",
    "#        'value': 'update option with rely on name',\n",
    "#        'page': 'Update Libraries'},\n",
    "#       {'V': 'verify', 'page': 'Update Libraries'},\n",
    "#       {'V': 'click', 'value': 'submit button', 'page': 'Update Libraries'}]\n",
    "]"
   ]
  },
  {
   "cell_type": "code",
   "execution_count": 16,
   "id": "a0d6178e-7c0e-4d39-94f2-63b3f909e24a",
   "metadata": {},
   "outputs": [],
   "source": [
    "scripts_dicts = [revert_to_script_dicts(test_case) for test_case in test_cases]\n",
    "# scripts_dicts[1]"
   ]
  },
  {
   "cell_type": "code",
   "execution_count": 17,
   "id": "e63ad11a-64fd-45fb-bd8b-61f1d22d558b",
   "metadata": {},
   "outputs": [],
   "source": [
    "# align_one_line_to_script({'V': 'get', 'value': 'email error message', 'page': 'login'})\n",
    "# get_obj_path({'V': 'get', 'value': 'email error message', 'page': 'login'})\n",
    "# get_obj_path({'V': 'enter', 'location': 'to email textbox', 'value': 'admin1@mail.com', 'page': 'login'})"
   ]
  },
  {
   "cell_type": "code",
   "execution_count": 18,
   "id": "c69295d0-7f5b-48f8-9477-5a83bd85e8e3",
   "metadata": {},
   "outputs": [],
   "source": [
    "# scripts_dicts[0]"
   ]
  },
  {
   "cell_type": "code",
   "execution_count": 19,
   "id": "cc089f58-599a-4426-adbd-e1ca2b86a64e",
   "metadata": {},
   "outputs": [
    {
     "name": "stdout",
     "output_type": "stream",
     "text": [
      "Script 0\n",
      "\n",
      "WebUI.setText(findTestObject('Page_Login/tbx_Email'), 'admin1@mail.com')\n",
      "WebUI.setText(findTestObject('Page_Login/tbx_Password'), 'Admin@123')\n",
      "WebUI.click(findTestObject('Page_Login/btn_Login'))\n",
      "WebUI.waitForElementPresent(findTestObject('Page_ChangePassword/txt_Title'), 30, FailureHandling.STOP_ON_FAILURE)\n",
      "----------------------------------------------------------------------------------------------------\n",
      "Script 1\n",
      "\n",
      "WebUI.setText(findTestObject('Page_Login/tbx_Email'), 'invalid@wrong')\n",
      "WebUI.setText(findTestObject('Page_Login/tbx_Password'), 'invalidpassword')\n",
      "WebUI.click(findTestObject('Page_Login/btn_Login'))\n",
      "WebUI.waitForElementPresent(findTestObject('Page_Login/txt_EmailErrorMessage'), 3, FailureHandling.STOP_ON_FAILURE)\n",
      "def actualEmailErrorMessage = WebUI.getText(findTestObject('Page_Login/txt_EmailErrorMessage'))\n",
      "WebUI.verifyMatch(actualEmailErrorMessage, expectedEmailErrorMessage, false)\n",
      "WebUI.waitForElementPresent(findTestObject('Page_Login/txt_PasswordErrorMessage'), 3, FailureHandling.STOP_ON_FAILURE)\n",
      "def actualPasswordErrorMessage = WebUI.getText(findTestObject('Page_Login/txt_PasswordErrorMessage'))\n",
      "WebUI.verifyMatch(actualPasswordErrorMessage, expectedPasswordErrorMessage, false)\n",
      "----------------------------------------------------------------------------------------------------\n",
      "Script 2\n",
      "\n",
      "WebUI.click(findTestObject('Module_Navigation/lbl_Avatar'))\n",
      "WebUI.click(findTestObject('Page_Login/btn_Logout'))\n",
      "WebUI.waitForElementPresent(findTestObject('Page_Login/btn_Login'), 10, FailureHandling.STOP_ON_FAILURE)\n",
      "----------------------------------------------------------------------------------------------------\n",
      "Script 3\n",
      "\n",
      "WebUI.click(findTestObject('Module_Navigation/lbl_Avatar'))\n",
      "WebUI.click(findTestObject('Module_Navigation/btn_ChangePassword'))\n",
      "WebUI.waitForElementPresent(findTestObject('Page_ChangePassword/txt_Title'), 10, FailureHandling.STOP_ON_FAILURE)\n",
      "WebUI.setText(findTestObject('Page_ChangePassword/tbx_CurrentPassword'), 'Admin@123')\n",
      "WebUI.setText(findTestObject('Page_ChangePassword/tbx_NewPassword'), 'Admin@1234')\n",
      "WebUI.setText(findTestObject('Page_ChangePassword/tbx_ConfirmPassword'), 'Admin@1234')\n",
      "WebUI.click(findTestObject('Page_ChangePassword/btn_Submit'))\n",
      "----------------------------------------------------------------------------------------------------\n"
     ]
    }
   ],
   "source": [
    "for i, script_dicts in enumerate(scripts_dicts):\n",
    "    try:\n",
    "        print(\"Script \" + str(i)+'\\n')\n",
    "        print(revert_to_script(script_dicts))\n",
    "        print(\"-\"*100)\n",
    "    except:\n",
    "        print(i)\n",
    "        print(script_dicts)"
   ]
  },
  {
   "cell_type": "code",
   "execution_count": null,
   "id": "5920677d-c0c0-40dd-aa56-6cc18a56c15b",
   "metadata": {},
   "outputs": [],
   "source": []
  }
 ],
 "metadata": {
  "kernelspec": {
   "display_name": "Python 3 (ipykernel)",
   "language": "python",
   "name": "python3"
  },
  "language_info": {
   "codemirror_mode": {
    "name": "ipython",
    "version": 3
   },
   "file_extension": ".py",
   "mimetype": "text/x-python",
   "name": "python",
   "nbconvert_exporter": "python",
   "pygments_lexer": "ipython3",
   "version": "3.9.5"
  }
 },
 "nbformat": 4,
 "nbformat_minor": 5
}
