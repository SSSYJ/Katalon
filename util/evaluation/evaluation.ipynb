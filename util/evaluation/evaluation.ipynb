{
 "cells": [
  {
   "cell_type": "markdown",
   "id": "7bf1181f-74f4-46e9-8748-02bc1c9c00ad",
   "metadata": {},
   "source": [
    "# Parsing the code \n",
    "failed. Groovy code could not be parsed well and it is hard to determine the weight of the parsed parts, so CodeBleu is not going to be used. <br>\n",
    "For more information about CodeBleu: https://towardsdatascience.com/a-gentle-introduction-to-code-generation-evaluation-c8dff8c3d19a <br>\n",
    "https://aclanthology.org/P02-1040.pdf"
   ]
  },
  {
   "cell_type": "markdown",
   "id": "7c57e374-ddf8-4132-8258-1f851295102f",
   "metadata": {},
   "source": [
    "# The generated scripts"
   ]
  },
  {
   "cell_type": "code",
   "execution_count": 1,
   "id": "758d3624-48e9-4110-b17d-ea0380599c5e",
   "metadata": {},
   "outputs": [],
   "source": [
    "script0 = '''WebUI.setText(findTestObject('Page_Login/tbx_Email'), 'admin1@mail.com')\n",
    "WebUI.setText(findTestObject('Page_Login/tbx_Password'), 'Admin@123')\n",
    "WebUI.click(findTestObject('Page_Login/btn_Login'))\n",
    "WebUI.waitForElementPresent(findTestObject('Page_ChangePassword/txt_Title'), 30, FailureHandling.STOP_ON_FAILURE)'''.split(\"\\n\")"
   ]
  },
  {
   "cell_type": "code",
   "execution_count": 2,
   "id": "526e8b36-411d-4928-b613-76f4ac10054c",
   "metadata": {},
   "outputs": [],
   "source": [
    "script1 = '''WebUI.setText(findTestObject('Page_Login/tbx_Email'), 'invalid@wrong')\n",
    "WebUI.setText(findTestObject('Page_Login/tbx_Password'), 'invalidpassword')\n",
    "WebUI.click(findTestObject('Page_Login/btn_Login'))\n",
    "WebUI.waitForElementPresent(findTestObject('Page_Login/txt_EmailErrorMessage'), 3, FailureHandling.STOP_ON_FAILURE)\n",
    "def actualEmailErrorMessage = WebUI.getText(findTestObject('Page_Login/txt_EmailErrorMessage'))\n",
    "WebUI.verifyMatch(actualEmailErrorMessage, expectedEmailErrorMessage, false)\n",
    "WebUI.waitForElementPresent(findTestObject('Page_Login/txt_PasswordErrorMessage'), 3, FailureHandling.STOP_ON_FAILURE)\n",
    "def actualPasswordErrorMessage = WebUI.getText(findTestObject('Page_Login/txt_PasswordErrorMessage'))\n",
    "WebUI.verifyMatch(actualPasswordErrorMessage, expectedPasswordErrorMessage, false)'''.split(\"\\n\")"
   ]
  },
  {
   "cell_type": "code",
   "execution_count": 3,
   "id": "434af6ae-74ad-4b77-80b5-bbfd8f61cfdd",
   "metadata": {},
   "outputs": [],
   "source": [
    "script1 = '''WebUI.setText(findTestObject('Page_Login/tbx_Email'), 'invalid@wrong')\n",
    "WebUI.setText(findTestObject('Page_Login/tbx_Password'), 'invalidpassword')\n",
    "WebUI.click(findTestObject('Page_Login/btn_Login'))\n",
    "WebUI.waitForElementPresent(findTestObject('Page_Login/txt_EmailErrorMessage'), 3, FailureHandling.STOP_ON_FAILURE)\n",
    "def actualEmailErrorMessage = WebUI.getText(findTestObject('Page_Login/txt_EmailErrorMessage'))\n",
    "WebUI.waitForElementPresent(findTestObject('Page_Login/txt_PasswordErrorMessage'), 3, FailureHandling.STOP_ON_FAILURE)\n",
    "def actualPasswordErrorMessage = WebUI.getText(findTestObject('Page_Login/txt_PasswordErrorMessage'))'''.split(\"\\n\")"
   ]
  },
  {
   "cell_type": "code",
   "execution_count": 4,
   "id": "db73dd24-2a95-403e-8bef-12e428220491",
   "metadata": {},
   "outputs": [],
   "source": [
    "script2 = '''WebUI.click(findTestObject('Module_Navigation/lbl_Avatar'))\n",
    "WebUI.click(findTestObject('Page_Login/btn_Logout'))\n",
    "WebUI.waitForElementPresent(findTestObject('Page_Login/btn_Login'), 10, FailureHandling.STOP_ON_FAILURE)'''.split(\"\\n\")"
   ]
  },
  {
   "cell_type": "code",
   "execution_count": 5,
   "id": "140b3e81-d633-4e3a-bb1c-68661a7ab303",
   "metadata": {},
   "outputs": [],
   "source": [
    "script3 = '''WebUI.click(findTestObject('Module_Navigation/lbl_Avatar'))\n",
    "WebUI.click(findTestObject('Module_Navigation/btn_ChangePassword'))\n",
    "WebUI.waitForElementPresent(findTestObject('Page_ChangePassword/txt_Title'), 10, FailureHandling.STOP_ON_FAILURE)\n",
    "WebUI.setText(findTestObject('Page_ChangePassword/tbx_CurrentPassword'), 'Admin@123')\n",
    "WebUI.setText(findTestObject('Page_ChangePassword/tbx_NewPassword'), 'Admin@1234')\n",
    "WebUI.setText(findTestObject('Page_ChangePassword/tbx_ConfirmPassword'), 'Admin@1234')\n",
    "WebUI.click(findTestObject('Page_ChangePassword/btn_Submit'))'''.split(\"\\n\")"
   ]
  },
  {
   "cell_type": "code",
   "execution_count": 6,
   "id": "7d1fe918-2747-4f49-85a4-eeea8232d4cb",
   "metadata": {},
   "outputs": [],
   "source": [
    "script4 = '''WebUI.click(findTestObject('Module_Navigation/lbl_Avatar'))\n",
    "WebUI.click(findTestObject('Module_Navigation/btn_ChangePassword'))\n",
    "WebUI.waitForElementPresent(findTestObject('Page_ChangePassword/txt_Title'), 10, FailureHandling.STOP_ON_FAILURE)\n",
    "WebUI.setText(findTestObject('Page_ChangePassword/tbx_CurrentPassword'), ' ')\n",
    "WebUI.setText(findTestObject('Page_ChangePassword/tbx_NewPassword'), ' ')\n",
    "WebUI.setText(findTestObject('Page_ChangePassword/tbx_ConfirmPassword'), ' ')\n",
    "WebUI.click(findTestObject('Page_ChangePassword/btn_Submit'))'''.split('\\n')"
   ]
  },
  {
   "cell_type": "code",
   "execution_count": 7,
   "id": "7ecdcfe7-df85-4732-984d-39ecf6503ae0",
   "metadata": {},
   "outputs": [],
   "source": [
    "script5 = \"\""
   ]
  },
  {
   "cell_type": "code",
   "execution_count": 8,
   "id": "53aaa650-0370-447e-9e6a-95d5f0ac9c2d",
   "metadata": {},
   "outputs": [],
   "source": [
    "script6 = '''WebUI.click(findTestObject('Page_UpdateProfile/txt_MyProfile'))\n",
    "WebUI.waitForElementPresent(findTestObject('{'Module_Navigation/nav_item_tests', 'Module_Navigation/txt_title', 'Page_UpdateProfile/txt_email'}'), 20, FailureHandling.STOP_ON_FAILURE)\n",
    "WebUI.setText(findTestObject('Page_UpdateProfile/txt_FullName'), 'new name')\n",
    "WebUI.setText(findTestObject('Page_UpdateProfile/txt_Phone'), '1234567890')\n",
    "WebUI.click(findTestObject('Page_UpdateProfile/btn_Submit'))'''.split(\"\\n\")"
   ]
  },
  {
   "cell_type": "code",
   "execution_count": 9,
   "id": "bf5daf5a-a7e2-44e4-a828-a6f128bacf00",
   "metadata": {},
   "outputs": [],
   "source": [
    "script7 = '''WebUI.click(findTestObject('Page_UpdateProfile/img_Avatar'))\n",
    "WebUI.click(findTestObject('Page_UpdateProfile/txt_MyProfile'))\n",
    "WebUI.waitForElementPresent(findTestObject('Page_UpdateProfile/txt_email'), 20, FailureHandling.STOP_ON_FAILURE)\n",
    "WebUI.setText(findTestObject('Page_UpdateProfile/txt_FullName'), ' ')\n",
    "WebUI.setText(findTestObject('Page_UpdateProfile/txt_Phone'), '12345678')\n",
    "WebUI.click(findTestObject('Page_UpdateProfile/btn_Submit'))'''.split(\"\\n\")"
   ]
  },
  {
   "cell_type": "code",
   "execution_count": 10,
   "id": "3ed97aa7-b79a-4b6b-aa27-39aa894cc7f2",
   "metadata": {},
   "outputs": [],
   "source": [
    "script8 = '''WebUI.click(findTestObject('Page_Libraries/Empty_Page/btn_createLibrary'))\n",
    "WebUI.setText(findTestObject('Page_Libraries/Library_Dialog/txt_nameField'), 'new library')\n",
    "WebUI.click(findTestObject('{'Page_Libraries/Library_Dialog/btn_Submit', 'Page_Libraries/Question_Dialog/btn_Submit'}'))'''.split(\"\\n\")"
   ]
  },
  {
   "cell_type": "code",
   "execution_count": 11,
   "id": "f4478a42-a5b6-4aa6-a4cd-774b27911652",
   "metadata": {},
   "outputs": [],
   "source": [
    "script9 = '''WebUI.click(findTestObject('Page_Libraries/Empty_Page/btn_createLibrary'))\n",
    "WebUI.click(findTestObject('{'Page_Libraries/Library_Dialog/btn_Submit', 'Page_Libraries/Question_Dialog/btn_Submit'}'))\n",
    "WebUI.waitForElementPresent(findTestObject('Page_Libraries/Library_Dialog/txt_invalidMessage'), 20, FailureHandling.STOP_ON_FAILURE)\n",
    "def actualinvalidMessage = WebUI.getText(findTestObject('Page_Libraries/Library_Dialog/txt_invalidMessage'))'''.split(\"\\n\")"
   ]
  },
  {
   "cell_type": "code",
   "execution_count": 12,
   "id": "0a00fb61-80d5-4005-9bf6-4747b7402117",
   "metadata": {},
   "outputs": [],
   "source": [
    "script10 = '''WebUI.waitForElementPresent(findTestObject('Page_Libraries/btn_addLibrary'), 20, FailureHandling.STOP_ON_FAILURE)\n",
    "WebUI.click(findTestObject('Page_Libraries/btn_addLibrary'))\n",
    "WebUI.click(findTestObject('{'Page_Libraries/Library_Dialog/btn_Submit', 'Page_Libraries/Question_Dialog/btn_Submit'}'))\n",
    "WebUI.waitForElementPresent(findTestObject('Page_Libraries/txt_SuccessfullMessage'), 20, FailureHandling.STOP_ON_FAILURE)\n",
    "def actualSuccessfullMessage = WebUI.getText(findTestObject('Page_Libraries/txt_SuccessfullMessage'))'''.split(\"\\n\")"
   ]
  },
  {
   "cell_type": "code",
   "execution_count": 13,
   "id": "506a9804-733d-4180-a2ea-b686201a9454",
   "metadata": {},
   "outputs": [],
   "source": [
    "script11 = '''WebUI.click(findTestObject('Page_Libraries/btn_addLibrary'))\n",
    "WebUI.click(findTestObject('{'Page_Libraries/Library_Dialog/btn_Submit', 'Page_Libraries/Question_Dialog/btn_Submit'}'))\n",
    "WebUI.waitForElementPresent(findTestObject('Page_Libraries/Library_Dialog/txt_invalidMessage'), 20, FailureHandling.STOP_ON_FAILURE)\n",
    "def actualinvalidMessage = WebUI.getText(findTestObject('Page_Libraries/Library_Dialog/txt_invalidMessage'))\n",
    "WebUI.click(findTestObject('{'Page_Libraries/Question_Dialog/btn_Cancel', 'Page_Libraries/More_Action/btn_Cancel'}'))'''.split(\"\\n\")"
   ]
  },
  {
   "cell_type": "code",
   "execution_count": 14,
   "id": "002c9370-d2a7-44dc-9231-8e07b7c7bc47",
   "metadata": {},
   "outputs": [],
   "source": [
    "script12 = '''WebUI.click(findTestObject('Module_Navigation/nav_item_libraries'))\n",
    "WebUI.click(findTestObject('Module_Navigation/nav_item_libraries'))'''.split(\"\\n\")"
   ]
  },
  {
   "cell_type": "code",
   "execution_count": 15,
   "id": "40e40db6-ac5e-4ace-a91b-1c0ce96ac375",
   "metadata": {},
   "outputs": [],
   "source": [
    "script13 = '''WebUI.click(findTestObject('Page_Libraries/btn_libraryName_relyOnName'))\n",
    "WebUI.click(findTestObject('Page_Libraries/More_Action/updateOption_relyOnName'))\n",
    "WebUI.click(findTestObject('{'Page_Libraries/Library_Dialog/btn_Submit', 'Page_Libraries/Question_Dialog/btn_Submit'}'))'''.split(\"\\n\")"
   ]
  },
  {
   "cell_type": "code",
   "execution_count": 16,
   "id": "4d8345ad-51e4-48ae-bd29-e2a2987f828e",
   "metadata": {
    "tags": []
   },
   "outputs": [],
   "source": [
    "# for i, gold in enumerate(GOLD_cases):\n",
    "#     print(f\"Script {i}\")\n",
    "#     print(preprocess_test_case(gold))"
   ]
  },
  {
   "cell_type": "code",
   "execution_count": 17,
   "id": "09939091-8054-43b3-a78c-936bed3af2fe",
   "metadata": {},
   "outputs": [],
   "source": [
    "scripts = [script0, script1, script2, script3, script4, script5, script6, script7, script8, script9, script10, script11, script12, script13]"
   ]
  },
  {
   "cell_type": "markdown",
   "id": "97a73c4e-96c1-4ff7-bc79-7288832f136f",
   "metadata": {},
   "source": [
    "# Load the scripts to create the gold scripts"
   ]
  },
  {
   "cell_type": "code",
   "execution_count": 19,
   "id": "d199edec-ce16-4b5f-9b1c-17e4bf6f77f2",
   "metadata": {},
   "outputs": [],
   "source": [
    "# \"WebUI.setText(findTestObject('Object Repository/TC001/Page_/input_Email_username'), 'admin1@mail.com')\"\n",
    "\n",
    "# \"WebUI.setEncryptedText(findTestObject('Object Repository/TC001/Page_/input_Password_password'), '7Dxoto1EjKfQbGop/Ov+1g==')\"\n",
    "\n",
    "# \"WebUI.doubleClick(findTestObject('Object Repository/TC001/Page_/button_Login'))\""
   ]
  },
  {
   "cell_type": "code",
   "execution_count": 20,
   "id": "45e3e26c-f7ad-4535-9cc0-068053ae82e0",
   "metadata": {},
   "outputs": [],
   "source": [
    "#!pip install openpyxl\n",
    "\n",
    "import pandas as pd\n",
    "import numpy as np\n",
    "from os import listdir\n",
    "from os.path import isfile\n",
    "import pickle as pkl\n",
    "\n",
    "def get_script(path, dic={}):\n",
    "    for dir in listdir(path):\n",
    "        if dir.startswith('TC'):\n",
    "            for file in listdir(path+dir+'/'):\n",
    "                dic[dir] = path+dir+'/'+file\n",
    "        elif not isfile(path+dir+'/'):\n",
    "            get_script(path+dir+'/', dic)\n",
    "    return dic\n",
    "\n",
    "test_cases_df = pd.read_excel('Katalon Capstone - Manual Test Cases.xlsx')\n",
    "\n",
    "for column in test_cases_df.columns:\n",
    "    if 'Unnamed: ' in column:\n",
    "        test_cases_df.drop(column, inplace=True, axis=1)\n",
    "\n",
    "test_cases_df.drop(test_cases_df.index[[0, 1]], inplace=True)\n",
    "\n",
    "test_cases_df.reset_index(drop=True, inplace=True)\n",
    "\n",
    "test_cases_df.iloc[131]['Title'] = 'TC132_Verify Question is timed out_P1'\n",
    "\n",
    "path_dict = get_script('../ubc-script-generation/ontest-main/Automation/Scripts/Main Test Cases/')\n",
    "\n",
    "scripts = []\n",
    "for i in range(test_cases_df.shape[0]):\n",
    "    if test_cases_df.iloc[i]['Title'] in path_dict.keys():\n",
    "        with open(path_dict[test_cases_df.iloc[i]['Title']]) as f:\n",
    "            scripts.append(f.read())\n",
    "    else:\n",
    "        scripts.append(np.nan)\n",
    "\n",
    "test_cases_df['test_scripts'] = scripts"
   ]
  },
  {
   "cell_type": "code",
   "execution_count": 21,
   "id": "7dea0405-d164-4cda-bba7-d81c474ffd12",
   "metadata": {},
   "outputs": [],
   "source": [
    "GOLD_cases = test_cases_df['test_scripts'][:14]"
   ]
  },
  {
   "cell_type": "code",
   "execution_count": 22,
   "id": "da7b2847-6653-461c-89e1-f350f3f20aee",
   "metadata": {},
   "outputs": [
    {
     "data": {
      "text/plain": [
       "0     import static com.kms.katalon.core.checkpoint....\n",
       "1     import static com.kms.katalon.core.checkpoint....\n",
       "2     import static com.kms.katalon.core.testcase.Te...\n",
       "3     import static com.kms.katalon.core.testcase.Te...\n",
       "4     import static com.kms.katalon.core.testcase.Te...\n",
       "5                                                   NaN\n",
       "6     import static com.kms.katalon.core.testcase.Te...\n",
       "7     import com.kms.katalon.core.checkpoint.Checkpo...\n",
       "8     import static com.kms.katalon.core.testcase.Te...\n",
       "9     import static com.kms.katalon.core.testcase.Te...\n",
       "10    import static com.kms.katalon.core.testcase.Te...\n",
       "11    import static com.kms.katalon.core.testcase.Te...\n",
       "12    import static com.kms.katalon.core.testcase.Te...\n",
       "13    import static com.kms.katalon.core.testcase.Te...\n",
       "Name: test_scripts, dtype: object"
      ]
     },
     "execution_count": 22,
     "metadata": {},
     "output_type": "execute_result"
    }
   ],
   "source": [
    "GOLD_cases"
   ]
  },
  {
   "cell_type": "code",
   "execution_count": 23,
   "id": "ba82bc7d-b052-44cf-ba00-f12469539fe8",
   "metadata": {},
   "outputs": [],
   "source": [
    "#create a process function to get rid of the imports and remove the WebUI.comment for now\n",
    "import math\n",
    "def preprocess_test_case(case):\n",
    "    try:\n",
    "        if math.isnan(case):\n",
    "            return \"empty here\"\n",
    "    except:\n",
    "        pass\n",
    "    output = []\n",
    "    steps = case.split('\\n')\n",
    "    for step in steps:\n",
    "        if step.startswith(\"def\"):\n",
    "            if step.startswith(\"def actualinvalidMessage\"):\n",
    "                output.append(step)\n",
    "            elif step.startswith(\"def actualEmailErrorMessage\"):\n",
    "                output.append(step)\n",
    "            elif step.startswith(\"def actualPasswordErrorMessage\"):\n",
    "                output.append(step)\n",
    "            elif step.startswith(\"def actualinvalidMessage\"):\n",
    "                output.append(step)\n",
    "            else:\n",
    "                continue\n",
    "        if step.startswith(\"WebUI.waitForPageLoad\"):\n",
    "            continue\n",
    "        if not step.startswith(\"WebUI\"):\n",
    "            continue\n",
    "        if step.startswith(\"WebUI.comment\"):\n",
    "            continue\n",
    "        if step.startswith(\"WebUI.takeScreenshotAsCheckpoint\"):\n",
    "            continue\n",
    "        if step.startswith(\"WebUI.callTestCase\"):\n",
    "            continue\n",
    "        if step.startswith(\"WebUI.verifyMatch\"):\n",
    "            continue\n",
    "        if step.startswith(\"WebUI.verifyTextPresent\"):\n",
    "            continue\n",
    "        if step.startswith(\"WebUI.waitForPageLoad\"):\n",
    "            continue\n",
    "        else:\n",
    "            output.append(step)\n",
    "    return output"
   ]
  },
  {
   "cell_type": "code",
   "execution_count": 24,
   "id": "c768f151-a7b7-405d-a639-be1255e75b2f",
   "metadata": {},
   "outputs": [],
   "source": [
    "#Example demonstrated for gold_1"
   ]
  },
  {
   "cell_type": "code",
   "execution_count": 25,
   "id": "918a1a1f-5083-4e3c-87e3-8767f344b5fd",
   "metadata": {},
   "outputs": [],
   "source": [
    "gold_1 = preprocess_test_case(test_cases_df['test_scripts'][1])"
   ]
  },
  {
   "cell_type": "code",
   "execution_count": 26,
   "id": "a1df0ab1-f8fe-496e-af9b-9bd87340c804",
   "metadata": {},
   "outputs": [
    {
     "data": {
      "text/plain": [
       "[\"WebUI.setText(findTestObject('Page_Login/tbx_Email'), Email)\",\n",
       " \"WebUI.setText(findTestObject('Page_Login/tbx_Password'), Password)\",\n",
       " \"WebUI.click(findTestObject('Page_Login/btn_Login'))\",\n",
       " \"WebUI.waitForElementPresent(findTestObject('Page_Login/txt_EmailErrorMessage'), 3, FailureHandling.STOP_ON_FAILURE)\",\n",
       " \"def actualEmailErrorMessage = WebUI.getText(findTestObject('Page_Login/txt_EmailErrorMessage'))\",\n",
       " \"WebUI.waitForElementPresent(findTestObject('Page_Login/txt_PasswordErrorMessage'), 3, FailureHandling.STOP_ON_FAILURE)\",\n",
       " \"def actualPasswordErrorMessage = WebUI.getText(findTestObject('Page_Login/txt_PasswordErrorMessage'))\"]"
      ]
     },
     "execution_count": 26,
     "metadata": {},
     "output_type": "execute_result"
    }
   ],
   "source": [
    "gold_1"
   ]
  },
  {
   "cell_type": "code",
   "execution_count": 27,
   "id": "e9fe3d7a-911e-4671-8ee7-6f6b687f2774",
   "metadata": {},
   "outputs": [],
   "source": [
    "GOLD_cases = [preprocess_test_case(gold) for gold in GOLD_cases]"
   ]
  },
  {
   "cell_type": "code",
   "execution_count": 28,
   "id": "63462ab6-210d-4222-983a-248b212a1cb4",
   "metadata": {},
   "outputs": [
    {
     "data": {
      "text/plain": [
       "[\"WebUI.setText(findTestObject('Page_Login/tbx_Email'), Email)\",\n",
       " \"WebUI.setText(findTestObject('Page_Login/tbx_Password'), Password)\",\n",
       " \"WebUI.click(findTestObject('Page_Login/btn_Login'))\",\n",
       " \"WebUI.waitForElementPresent(findTestObject('Page_Login/txt_EmailErrorMessage'), 3, FailureHandling.STOP_ON_FAILURE)\",\n",
       " \"def actualEmailErrorMessage = WebUI.getText(findTestObject('Page_Login/txt_EmailErrorMessage'))\",\n",
       " \"WebUI.waitForElementPresent(findTestObject('Page_Login/txt_PasswordErrorMessage'), 3, FailureHandling.STOP_ON_FAILURE)\",\n",
       " \"def actualPasswordErrorMessage = WebUI.getText(findTestObject('Page_Login/txt_PasswordErrorMessage'))\"]"
      ]
     },
     "execution_count": 28,
     "metadata": {},
     "output_type": "execute_result"
    }
   ],
   "source": [
    "GOLD_cases[1]"
   ]
  },
  {
   "cell_type": "code",
   "execution_count": 29,
   "id": "fcdfc8cc-a0fc-4bc9-a9d7-c37986c7c629",
   "metadata": {},
   "outputs": [],
   "source": [
    "import re"
   ]
  },
  {
   "cell_type": "code",
   "execution_count": 30,
   "id": "fe8bab76-3c31-424b-b789-ab6f0ed1262b",
   "metadata": {},
   "outputs": [],
   "source": [
    "def groovy_parser(code):\n",
    "    output = []\n",
    "    result = re.split(r'[,()/]', code)\n",
    "    for item in result:\n",
    "        if len(item) >= 1:\n",
    "            output.append(item)\n",
    "    return output"
   ]
  },
  {
   "cell_type": "code",
   "execution_count": 31,
   "id": "eae382fe-c17c-4386-947a-2f628d7f15c2",
   "metadata": {},
   "outputs": [],
   "source": [
    "#example demonstrated below"
   ]
  },
  {
   "cell_type": "code",
   "execution_count": 32,
   "id": "2a25c377-c5c1-45c8-8c72-b792a47e3fb6",
   "metadata": {},
   "outputs": [
    {
     "data": {
      "text/plain": [
       "[\"WebUI.setText(findTestObject('Page_Login/tbx_Email'), 'invalid@wrong')\",\n",
       " \"WebUI.setText(findTestObject('Page_Login/tbx_Password'), 'invalidpassword')\",\n",
       " \"WebUI.click(findTestObject('Page_Login/btn_Login'))\",\n",
       " \"WebUI.waitForElementPresent(findTestObject('Page_Login/txt_EmailErrorMessage'), 3, FailureHandling.STOP_ON_FAILURE)\",\n",
       " \"def actualEmailErrorMessage = WebUI.getText(findTestObject('Page_Login/txt_EmailErrorMessage'))\",\n",
       " \"WebUI.waitForElementPresent(findTestObject('Page_Login/txt_PasswordErrorMessage'), 3, FailureHandling.STOP_ON_FAILURE)\",\n",
       " \"def actualPasswordErrorMessage = WebUI.getText(findTestObject('Page_Login/txt_PasswordErrorMessage'))\"]"
      ]
     },
     "execution_count": 32,
     "metadata": {},
     "output_type": "execute_result"
    }
   ],
   "source": [
    "script1"
   ]
  },
  {
   "cell_type": "code",
   "execution_count": 33,
   "id": "74c6cdb1-5608-4857-9d98-f20e12d24501",
   "metadata": {},
   "outputs": [
    {
     "data": {
      "text/plain": [
       "['WebUI.setText',\n",
       " 'findTestObject',\n",
       " \"'Page_Login\",\n",
       " \"tbx_Email'\",\n",
       " \" 'invalid@wrong'\"]"
      ]
     },
     "execution_count": 33,
     "metadata": {},
     "output_type": "execute_result"
    }
   ],
   "source": [
    "groovy_parser(script1[0])"
   ]
  },
  {
   "cell_type": "code",
   "execution_count": 34,
   "id": "b6bf5688-2d54-444f-81c8-e928dce0a28a",
   "metadata": {},
   "outputs": [
    {
     "data": {
      "text/plain": [
       "['WebUI.setText', 'findTestObject', \"'Page_Login\", \"tbx_Email'\", ' Email']"
      ]
     },
     "execution_count": 34,
     "metadata": {},
     "output_type": "execute_result"
    }
   ],
   "source": [
    "groovy_parser(gold_1[0])"
   ]
  },
  {
   "cell_type": "markdown",
   "id": "17a89589-c2ae-4c21-95ad-d13bc0437610",
   "metadata": {},
   "source": [
    "# F1 score to evaluate the generated code with the gold standards"
   ]
  },
  {
   "cell_type": "code",
   "execution_count": 35,
   "id": "7951cbc8-9a87-41f2-84b1-369577ab225e",
   "metadata": {},
   "outputs": [],
   "source": [
    "#the function to calculate f1 score\n",
    "def f1_score(reference, test):\n",
    "    correct = 0\n",
    "    for chunk in reference:\n",
    "        if chunk in test:\n",
    "            correct += 1\n",
    "    recall = correct / len(reference)\n",
    "    precision = correct /len(test)\n",
    "    f1 = 2 * recall * precision / (recall + precision)\n",
    "    return f1"
   ]
  },
  {
   "cell_type": "code",
   "execution_count": 36,
   "id": "6374a882-6b78-4e76-862b-3b7c82acbdb9",
   "metadata": {},
   "outputs": [],
   "source": [
    "#example demonstrated for script1"
   ]
  },
  {
   "cell_type": "code",
   "execution_count": 37,
   "id": "7abeec62-91b2-4c75-8032-f17070a702b2",
   "metadata": {},
   "outputs": [
    {
     "data": {
      "text/plain": [
       "[\"WebUI.setText(findTestObject('Page_Login/tbx_Email'), 'invalid@wrong')\",\n",
       " \"WebUI.setText(findTestObject('Page_Login/tbx_Password'), 'invalidpassword')\",\n",
       " \"WebUI.click(findTestObject('Page_Login/btn_Login'))\",\n",
       " \"WebUI.waitForElementPresent(findTestObject('Page_Login/txt_EmailErrorMessage'), 3, FailureHandling.STOP_ON_FAILURE)\",\n",
       " \"def actualEmailErrorMessage = WebUI.getText(findTestObject('Page_Login/txt_EmailErrorMessage'))\",\n",
       " \"WebUI.waitForElementPresent(findTestObject('Page_Login/txt_PasswordErrorMessage'), 3, FailureHandling.STOP_ON_FAILURE)\",\n",
       " \"def actualPasswordErrorMessage = WebUI.getText(findTestObject('Page_Login/txt_PasswordErrorMessage'))\"]"
      ]
     },
     "execution_count": 37,
     "metadata": {},
     "output_type": "execute_result"
    }
   ],
   "source": [
    "script1"
   ]
  },
  {
   "cell_type": "code",
   "execution_count": 38,
   "id": "c797050f-fbd2-4bc0-9560-d5471f2ae007",
   "metadata": {},
   "outputs": [
    {
     "data": {
      "text/plain": [
       "[\"WebUI.setText(findTestObject('Page_Login/tbx_Email'), Email)\",\n",
       " \"WebUI.setText(findTestObject('Page_Login/tbx_Password'), Password)\",\n",
       " \"WebUI.click(findTestObject('Page_Login/btn_Login'))\",\n",
       " \"WebUI.waitForElementPresent(findTestObject('Page_Login/txt_EmailErrorMessage'), 3, FailureHandling.STOP_ON_FAILURE)\",\n",
       " \"def actualEmailErrorMessage = WebUI.getText(findTestObject('Page_Login/txt_EmailErrorMessage'))\",\n",
       " \"WebUI.waitForElementPresent(findTestObject('Page_Login/txt_PasswordErrorMessage'), 3, FailureHandling.STOP_ON_FAILURE)\",\n",
       " \"def actualPasswordErrorMessage = WebUI.getText(findTestObject('Page_Login/txt_PasswordErrorMessage'))\"]"
      ]
     },
     "execution_count": 38,
     "metadata": {},
     "output_type": "execute_result"
    }
   ],
   "source": [
    "gold_1"
   ]
  },
  {
   "cell_type": "code",
   "execution_count": 39,
   "id": "dd83f335-d85b-4a8e-8218-833a2bc5cfaf",
   "metadata": {},
   "outputs": [],
   "source": [
    "chunks = []\n",
    "for step in script1:\n",
    "    chunks.extend(groovy_parser(step))"
   ]
  },
  {
   "cell_type": "code",
   "execution_count": 40,
   "id": "30216fd1-40f4-4cc0-af6e-249d48fc06f5",
   "metadata": {},
   "outputs": [],
   "source": [
    "chunks_gold = []\n",
    "for step in gold_1:\n",
    "    chunks_gold.extend(groovy_parser(step))"
   ]
  },
  {
   "cell_type": "code",
   "execution_count": 41,
   "id": "2b16b094-7ecf-4606-b605-763b461a005a",
   "metadata": {},
   "outputs": [
    {
     "data": {
      "text/plain": [
       "0.9411764705882353"
      ]
     },
     "execution_count": 41,
     "metadata": {},
     "output_type": "execute_result"
    }
   ],
   "source": [
    "f1_score(chunks_gold, chunks)"
   ]
  },
  {
   "cell_type": "code",
   "execution_count": 48,
   "id": "b2100500-593a-4f68-a537-e3156fa101bf",
   "metadata": {},
   "outputs": [],
   "source": [
    "scripts = [script0, script1, script2, script3, script4, script5, script6, script7, script8, script9, script10, script11, script12, script13]"
   ]
  },
  {
   "cell_type": "markdown",
   "id": "fa370acd-4637-4a9b-9510-b8e884c5be38",
   "metadata": {},
   "source": [
    "# Evaluating the first 14 cases with F1"
   ]
  },
  {
   "cell_type": "code",
   "execution_count": 50,
   "id": "1c3e3c72-a231-4b01-9694-e7c617f09887",
   "metadata": {},
   "outputs": [
    {
     "name": "stdout",
     "output_type": "stream",
     "text": [
      "0.6749756370090663\n"
     ]
    }
   ],
   "source": [
    "scores = 0\n",
    "for i in range(len(GOLD_cases)):\n",
    "    #SCRIPT5 is empty so it is ignored here\n",
    "    if i != 5:\n",
    "        chunks_test = []\n",
    "        for step in scripts[i]:\n",
    "            chunks_test.extend(groovy_parser(step))\n",
    "        chunks_gold = []\n",
    "        for step in GOLD_cases[i]:\n",
    "            chunks_gold.extend(groovy_parser(step))\n",
    "    scores += f1_score(chunks_gold, chunks_test)\n",
    "print(scores/ (len(GOLD_cases) - 1))"
   ]
  },
  {
   "cell_type": "markdown",
   "id": "140b21da-f61f-48c2-9a76-c5e3ab6b1bc3",
   "metadata": {},
   "source": [
    "# BLEU Score"
   ]
  },
  {
   "cell_type": "code",
   "execution_count": 51,
   "id": "191d4aa7-c7a5-467c-96d7-ae29225e2d5f",
   "metadata": {},
   "outputs": [],
   "source": [
    "import nltk\n",
    "from nltk.translate.bleu_score import sentence_bleu"
   ]
  },
  {
   "cell_type": "code",
   "execution_count": 52,
   "id": "620af6f9-16e5-43d6-82cf-9dd3ec8137ee",
   "metadata": {
    "tags": []
   },
   "outputs": [],
   "source": [
    "#smoothing function got from https://www.psych.mcgill.ca/labs/mogillab/anaconda2/pkgs/nltk-3.2.2-py27_0/lib/python2.7/site-packages/nltk/translate/bleu_score.py\n",
    "class SmoothingFunction:\n",
    "    \"\"\"\n",
    "    This is an implementation of the smoothing techniques\n",
    "    for segment-level BLEU scores that was presented in\n",
    "    Boxing Chen and Collin Cherry (2014) A Systematic Comparison of\n",
    "    Smoothing Techniques for Sentence-Level BLEU. In WMT14.\n",
    "    http://acl2014.org/acl2014/W14-33/pdf/W14-3346.pdf\n",
    "    \"\"\"\n",
    "    def __init__(self, epsilon=0.1, alpha=5, k=5):\n",
    "        \"\"\"\n",
    "        This will initialize the parameters required for the various smoothing\n",
    "        techniques, the default values are set to the numbers used in the\n",
    "        experiments from Chen and Cherry (2014).\n",
    "\n",
    "        >>> hypothesis1 = ['It', 'is', 'a', 'guide', 'to', 'action', 'which', 'ensures',\n",
    "        ...                 'that', 'the', 'military', 'always', 'obeys', 'the',\n",
    "        ...                 'commands', 'of', 'the', 'party']\n",
    "        >>> reference1 = ['It', 'is', 'a', 'guide', 'to', 'action', 'that', 'ensures',\n",
    "        ...               'that', 'the', 'military', 'will', 'forever', 'heed',\n",
    "        ...               'Party', 'commands']\n",
    "\n",
    "        >>> chencherry = SmoothingFunction()\n",
    "        >>> print (sentence_bleu([reference1], hypothesis1)) # doctest: +ELLIPSIS\n",
    "        0.4118...\n",
    "        >>> print (sentence_bleu([reference1], hypothesis1, smoothing_function=chencherry.method0)) # doctest: +ELLIPSIS\n",
    "        0.4118...\n",
    "        >>> print (sentence_bleu([reference1], hypothesis1, smoothing_function=chencherry.method1)) # doctest: +ELLIPSIS\n",
    "        0.4118...\n",
    "        >>> print (sentence_bleu([reference1], hypothesis1, smoothing_function=chencherry.method2)) # doctest: +ELLIPSIS\n",
    "        0.4489...\n",
    "        >>> print (sentence_bleu([reference1], hypothesis1, smoothing_function=chencherry.method3)) # doctest: +ELLIPSIS\n",
    "        0.4118...\n",
    "        >>> print (sentence_bleu([reference1], hypothesis1, smoothing_function=chencherry.method4)) # doctest: +ELLIPSIS\n",
    "        0.4118...\n",
    "        >>> print (sentence_bleu([reference1], hypothesis1, smoothing_function=chencherry.method5)) # doctest: +ELLIPSIS\n",
    "        0.4905...\n",
    "        >>> print (sentence_bleu([reference1], hypothesis1, smoothing_function=chencherry.method6)) # doctest: +ELLIPSIS\n",
    "        0.4135...\n",
    "        >>> print (sentence_bleu([reference1], hypothesis1, smoothing_function=chencherry.method7)) # doctest: +ELLIPSIS\n",
    "        0.4905...\n",
    "\n",
    "        :param epsilon: the epsilon value use in method 1\n",
    "        :type epsilon: float\n",
    "        :param alpha: the alpha value use in method 6\n",
    "        :type alpha: int\n",
    "        :param k: the k value use in method 4\n",
    "        :type k: int\n",
    "        \"\"\"\n",
    "        self.epsilon = epsilon\n",
    "        self.alpha = alpha\n",
    "        self.k = k\n",
    "\n",
    "    def method0(self, p_n, *args, **kwargs):\n",
    "        \"\"\" No smoothing. \"\"\"\n",
    "        p_n_new = []\n",
    "        for i, p_i in enumerate(p_n):\n",
    "            if p_i.numerator != 0:\n",
    "                p_n_new.append(p_i)\n",
    "            else:\n",
    "                _msg = str(\"\\nCorpus/Sentence contains 0 counts of {}-gram overlaps.\\n\"\n",
    "                           \"BLEU scores might be undesirable; \"\n",
    "                           \"use SmoothingFunction().\").format(i+1)\n",
    "                warnings.warn(_msg)\n",
    "                # If this order of n-gram returns 0 counts, the higher order\n",
    "                # n-gram would also return 0, thus breaking the loop here.\n",
    "                break\n",
    "        return p_n_new\n",
    "\n",
    "    def method1(self, p_n, *args, **kwargs):\n",
    "        \"\"\"\n",
    "        Smoothing method 1: Add *epsilon* counts to precision with 0 counts.\n",
    "        \"\"\"\n",
    "        return [(p_i.numerator + self.epsilon)/ p_i.denominator\n",
    "                if p_i.numerator == 0 else p_i for p_i in p_n]\n",
    "\n",
    "    def method2(self, p_n, *args, **kwargs):\n",
    "        \"\"\"\n",
    "        Smoothing method 2: Add 1 to both numerator and denominator from\n",
    "        Chin-Yew Lin and Franz Josef Och (2004) Automatic evaluation of\n",
    "        machine translation quality using longest common subsequence and\n",
    "        skip-bigram statistics. In ACL04.\n",
    "        \"\"\"\n",
    "        return [Fraction(p_i.numerator + 1, p_i.denominator + 1, _normalize=False) for p_i in p_n]\n",
    "\n",
    "    def method3(self, p_n, *args, **kwargs):\n",
    "        \"\"\"\n",
    "        Smoothing method 3: NIST geometric sequence smoothing\n",
    "        The smoothing is computed by taking 1 / ( 2^k ), instead of 0, for each\n",
    "        precision score whose matching n-gram count is null.\n",
    "        k is 1 for the first 'n' value for which the n-gram match count is null/\n",
    "        For example, if the text contains:\n",
    "         - one 2-gram match\n",
    "         - and (consequently) two 1-gram matches\n",
    "        the n-gram count for each individual precision score would be:\n",
    "         - n=1  =>  prec_count = 2     (two unigrams)\n",
    "         - n=2  =>  prec_count = 1     (one bigram)\n",
    "         - n=3  =>  prec_count = 1/2   (no trigram,  taking 'smoothed' value of 1 / ( 2^k ), with k=1)\n",
    "         - n=4  =>  prec_count = 1/4   (no fourgram, taking 'smoothed' value of 1 / ( 2^k ), with k=2)\n",
    "        \"\"\"\n",
    "        incvnt = 1 # From the mteval-v13a.pl, it's referred to as k.\n",
    "        for i, p_i in enumerate(p_n):\n",
    "            if p_i.numerator == 0:\n",
    "                p_n[i] = 1 / (2**incvnt * p_i.denominator)\n",
    "                incvnt+=1\n",
    "        return p_n\n",
    "\n",
    "    def method4(self, p_n, references, hypothesis, hyp_len):\n",
    "        \"\"\"\n",
    "        Smoothing method 4:\n",
    "        Shorter translations may have inflated precision values due to having\n",
    "        smaller denominators; therefore, we give them proportionally\n",
    "        smaller smoothed counts. Instead of scaling to 1/(2^k), Chen and Cherry\n",
    "        suggests dividing by 1/ln(len(T)), where T is the length of the translation.\n",
    "        \"\"\"\n",
    "        for i, p_i in enumerate(p_n):\n",
    "            if p_i.numerator == 0 and hyp_len != 0:\n",
    "                incvnt = i+1 * self.k / math.log(hyp_len) # Note that this K is different from the K from NIST.\n",
    "                p_n[i] = 1 / incvnt\n",
    "        return p_n\n",
    "\n",
    "\n",
    "    def method5(self, p_n, references, hypothesis, hyp_len):\n",
    "        \"\"\"\n",
    "        Smoothing method 5:\n",
    "        The matched counts for similar values of n should be similar. To a\n",
    "        calculate the n-gram matched count, it averages the nâˆ’1, n and n+1 gram\n",
    "        matched counts.\n",
    "        \"\"\"\n",
    "        m = {}\n",
    "        # Requires an precision value for an addition ngram order.\n",
    "        p_n_plus1 = p_n + [modified_precision(references, hypothesis, 5)]\n",
    "        m[-1] = p_n[0] + 1\n",
    "        for i, p_i in enumerate(p_n):\n",
    "            p_n[i] = (m[i-1] + p_i + p_n_plus1[i+1]) / 3\n",
    "            m[i] = p_n[i]\n",
    "        return p_n\n",
    "\n",
    "    def method6(self, p_n, references, hypothesis, hyp_len):\n",
    "        \"\"\"\n",
    "        Smoothing method 6:\n",
    "        Interpolates the maximum likelihood estimate of the precision *p_n* with\n",
    "        a prior estimate *pi0*. The prior is estimated by assuming that the ratio\n",
    "        between pn and pnâˆ’1 will be the same as that between pnâˆ’1 and pnâˆ’2; from\n",
    "        Gao and He (2013) Training MRF-Based Phrase Translation Models using\n",
    "        Gradient Ascent. In NAACL.\n",
    "        \"\"\"\n",
    "        # This smoothing only works when p_1 and p_2 is non-zero.\n",
    "        # Raise an error with an appropriate message when the input is too short\n",
    "        # to use this smoothing technique.\n",
    "        assert p_n[2], \"This smoothing method requires non-zero precision for bigrams.\"\n",
    "        for i, p_i in enumerate(p_n):\n",
    "            if i in [0,1]: # Skips the first 2 orders of ngrams.\n",
    "                continue\n",
    "            else:\n",
    "                pi0 = 0 if p_n[i-2] == 0 else p_n[i-1]**2 / p_n[i-2]\n",
    "                # No. of ngrams in translation that matches the reference.\n",
    "                m = p_i.numerator\n",
    "                # No. of ngrams in translation.\n",
    "                l = sum(1 for _ in ngrams(hypothesis, i+1))\n",
    "                # Calculates the interpolated precision.\n",
    "                p_n[i] = (m + self.alpha * pi0) / (l + self.alpha)\n",
    "        return p_n\n",
    "\n",
    "    def method7(self, p_n, references, hypothesis, hyp_len):\n",
    "        \"\"\"\n",
    "        Smoothing method 6:\n",
    "        Interpolates the maximum likelihood estimate of the precision *p_n* with\n",
    "        a prior estimate *pi0*. The prior is estimated by assuming that the ratio\n",
    "        between pn and pnâˆ’1 will be the same as that between pnâˆ’1 and pnâˆ’2.\n",
    "        \"\"\"\n",
    "        p_n = self.method4(p_n, references, hypothesis, hyp_len)\n",
    "        p_n = self.method5(p_n, references, hypothesis, hyp_len)\n",
    "        return p_n"
   ]
  },
  {
   "cell_type": "code",
   "execution_count": 53,
   "id": "640056e8-501e-490e-9c5e-2650b702de9b",
   "metadata": {},
   "outputs": [],
   "source": [
    "chencherry = SmoothingFunction()"
   ]
  },
  {
   "cell_type": "code",
   "execution_count": 54,
   "id": "12157994-ef03-42d7-9310-cb7e70bea42f",
   "metadata": {},
   "outputs": [],
   "source": [
    "weights = (1./4, 1./4, 1./4, 1./4)"
   ]
  },
  {
   "cell_type": "markdown",
   "id": "99ec2467-e7a8-40ec-a885-a86c88ffe7ee",
   "metadata": {},
   "source": [
    "# Evaluating the first 14 cases"
   ]
  },
  {
   "cell_type": "code",
   "execution_count": 56,
   "id": "873add61-25af-4e61-8601-98b9caeb9290",
   "metadata": {},
   "outputs": [
    {
     "name": "stdout",
     "output_type": "stream",
     "text": [
      "0.296042404076687\n"
     ]
    }
   ],
   "source": [
    "scores = 0\n",
    "for i in range(len(GOLD_cases)):\n",
    "    #SCRIPT5 is empty so it is ignored here\n",
    "    if i != 5:\n",
    "        chunks_test = []\n",
    "        for step in scripts[i]:\n",
    "            chunks_test.extend(groovy_parser(step))\n",
    "        chunks_gold = []\n",
    "        for step in GOLD_cases[i]:\n",
    "            chunks_gold.extend(groovy_parser(step))\n",
    "    #print(sentence_bleu([chunks_gold], chunks_test, smoothing_function=chencherry.method1, weights=weights))\n",
    "    scores += sentence_bleu([chunks_gold], chunks_test, smoothing_function=chencherry.method1, weights=weights)\n",
    "print(scores/ (len(GOLD_cases) - 1))"
   ]
  }
 ],
 "metadata": {
  "kernelspec": {
   "display_name": "Python 3 (ipykernel)",
   "language": "python",
   "name": "python3"
  },
  "language_info": {
   "codemirror_mode": {
    "name": "ipython",
    "version": 3
   },
   "file_extension": ".py",
   "mimetype": "text/x-python",
   "name": "python",
   "nbconvert_exporter": "python",
   "pygments_lexer": "ipython3",
   "version": "3.9.5"
  }
 },
 "nbformat": 4,
 "nbformat_minor": 5
}
