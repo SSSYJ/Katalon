{
 "cells": [
  {
   "cell_type": "code",
   "execution_count": 1,
   "id": "96f15d19-b836-4e8e-b0bb-2349f443a2e3",
   "metadata": {},
   "outputs": [],
   "source": [
    "from Frame import Frame"
   ]
  },
  {
   "cell_type": "code",
   "execution_count": 2,
   "id": "7b11758a-b0d9-4632-89ec-07d8af0f8efe",
   "metadata": {},
   "outputs": [
    {
     "name": "stdout",
     "output_type": "stream",
     "text": [
      "action: None, frame: None, \n",
      "spec_vals: [], spec_names: [], spec_times: []\n"
     ]
    }
   ],
   "source": [
    "testFrame = Frame()\n",
    "print(testFrame)"
   ]
  },
  {
   "cell_type": "code",
   "execution_count": 3,
   "id": "84c30dc5-73ed-4570-9d1a-a9fa114f3cb7",
   "metadata": {},
   "outputs": [
    {
     "name": "stdout",
     "output_type": "stream",
     "text": [
      "action: input, frame: None, \n",
      "spec_vals: [], spec_names: [], spec_times: []\n"
     ]
    }
   ],
   "source": [
    "testFrame.update_action('input')\n",
    "print(testFrame)"
   ]
  },
  {
   "cell_type": "code",
   "execution_count": 4,
   "id": "710ac7c7-b042-4de9-bf53-7dddb298084e",
   "metadata": {},
   "outputs": [
    {
     "name": "stdout",
     "output_type": "stream",
     "text": [
      "action: input, frame: {'verb': 'input', 'value': None, 'location': None}, \n",
      "spec_vals: [], spec_names: [], spec_times: []\n"
     ]
    }
   ],
   "source": [
    "testFrame.update_frame('input')\n",
    "print(testFrame)"
   ]
  },
  {
   "cell_type": "code",
   "execution_count": 5,
   "id": "72f9c5de-c5db-4104-a8fb-7feb0b7369c8",
   "metadata": {},
   "outputs": [
    {
     "name": "stdout",
     "output_type": "stream",
     "text": [
      "Error: frame not defined for action \"unk\"! Please check the Frame module under util/parsing\n"
     ]
    }
   ],
   "source": [
    "testFrame.update_frame('unk')"
   ]
  },
  {
   "cell_type": "code",
   "execution_count": null,
   "id": "c76502f2-678c-424c-8f2a-6bfbb42eb09b",
   "metadata": {},
   "outputs": [],
   "source": []
  },
  {
   "cell_type": "code",
   "execution_count": null,
   "id": "34409b98-7eff-4feb-9fc0-c40f57cdd82e",
   "metadata": {},
   "outputs": [],
   "source": []
  },
  {
   "cell_type": "code",
   "execution_count": null,
   "id": "9139419d-c33e-4816-844f-1f07324d7235",
   "metadata": {},
   "outputs": [],
   "source": []
  }
 ],
 "metadata": {
  "kernelspec": {
   "display_name": "Python 3",
   "language": "python",
   "name": "python3"
  },
  "language_info": {
   "codemirror_mode": {
    "name": "ipython",
    "version": 3
   },
   "file_extension": ".py",
   "mimetype": "text/x-python",
   "name": "python",
   "nbconvert_exporter": "python",
   "pygments_lexer": "ipython3",
   "version": "3.8.8"
  }
 },
 "nbformat": 4,
 "nbformat_minor": 5
}
