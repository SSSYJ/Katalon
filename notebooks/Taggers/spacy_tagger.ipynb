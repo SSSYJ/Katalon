{
  "nbformat": 4,
  "nbformat_minor": 0,
  "metadata": {
    "colab": {
      "name": "sequence_tagger.ipynb",
      "provenance": [],
      "collapsed_sections": []
    },
    "kernelspec": {
      "name": "python3",
      "display_name": "Python 3"
    },
    "language_info": {
      "name": "python"
    },
    "accelerator": "GPU"
  },
  "cells": [
    {
      "cell_type": "markdown",
      "source": [
        "# Setup"
      ],
      "metadata": {
        "id": "3yDN347uHXsV"
      }
    },
    {
      "cell_type": "code",
      "source": [
        "!pip install --upgrade spacy"
      ],
      "metadata": {
        "id": "rqwcaAAx_s5w",
        "colab": {
          "base_uri": "https://localhost:8080/"
        },
        "outputId": "726665dd-b4c3-4c63-f344-2f0045767596"
      },
      "execution_count": 1,
      "outputs": [
        {
          "output_type": "stream",
          "name": "stdout",
          "text": [
            "Looking in indexes: https://pypi.org/simple, https://us-python.pkg.dev/colab-wheels/public/simple/\n",
            "Requirement already satisfied: spacy in /usr/local/lib/python3.7/dist-packages (2.2.4)\n",
            "Collecting spacy\n",
            "  Downloading spacy-3.3.1-cp37-cp37m-manylinux_2_17_x86_64.manylinux2014_x86_64.whl (6.2 MB)\n",
            "\u001b[K     |████████████████████████████████| 6.2 MB 5.2 MB/s \n",
            "\u001b[?25hRequirement already satisfied: murmurhash<1.1.0,>=0.28.0 in /usr/local/lib/python3.7/dist-packages (from spacy) (1.0.7)\n",
            "Requirement already satisfied: setuptools in /usr/local/lib/python3.7/dist-packages (from spacy) (57.4.0)\n",
            "Collecting srsly<3.0.0,>=2.4.3\n",
            "  Downloading srsly-2.4.3-cp37-cp37m-manylinux_2_17_x86_64.manylinux2014_x86_64.whl (457 kB)\n",
            "\u001b[K     |████████████████████████████████| 457 kB 63.1 MB/s \n",
            "\u001b[?25hRequirement already satisfied: numpy>=1.15.0 in /usr/local/lib/python3.7/dist-packages (from spacy) (1.21.6)\n",
            "Collecting pathy>=0.3.5\n",
            "  Downloading pathy-0.6.1-py3-none-any.whl (42 kB)\n",
            "\u001b[K     |████████████████████████████████| 42 kB 1.4 MB/s \n",
            "\u001b[?25hRequirement already satisfied: jinja2 in /usr/local/lib/python3.7/dist-packages (from spacy) (2.11.3)\n",
            "Requirement already satisfied: cymem<2.1.0,>=2.0.2 in /usr/local/lib/python3.7/dist-packages (from spacy) (2.0.6)\n",
            "Collecting typer<0.5.0,>=0.3.0\n",
            "  Downloading typer-0.4.1-py3-none-any.whl (27 kB)\n",
            "Requirement already satisfied: preshed<3.1.0,>=3.0.2 in /usr/local/lib/python3.7/dist-packages (from spacy) (3.0.6)\n",
            "Requirement already satisfied: wasabi<1.1.0,>=0.9.1 in /usr/local/lib/python3.7/dist-packages (from spacy) (0.9.1)\n",
            "Collecting typing-extensions<4.2.0,>=3.7.4\n",
            "  Downloading typing_extensions-4.1.1-py3-none-any.whl (26 kB)\n",
            "Collecting thinc<8.1.0,>=8.0.14\n",
            "  Downloading thinc-8.0.17-cp37-cp37m-manylinux_2_17_x86_64.manylinux2014_x86_64.whl (660 kB)\n",
            "\u001b[K     |████████████████████████████████| 660 kB 58.9 MB/s \n",
            "\u001b[?25hCollecting spacy-legacy<3.1.0,>=3.0.9\n",
            "  Downloading spacy_legacy-3.0.9-py2.py3-none-any.whl (20 kB)\n",
            "Requirement already satisfied: packaging>=20.0 in /usr/local/lib/python3.7/dist-packages (from spacy) (21.3)\n",
            "Collecting spacy-loggers<2.0.0,>=1.0.0\n",
            "  Downloading spacy_loggers-1.0.2-py3-none-any.whl (7.2 kB)\n",
            "Collecting catalogue<2.1.0,>=2.0.6\n",
            "  Downloading catalogue-2.0.7-py3-none-any.whl (17 kB)\n",
            "Collecting pydantic!=1.8,!=1.8.1,<1.9.0,>=1.7.4\n",
            "  Downloading pydantic-1.8.2-cp37-cp37m-manylinux2014_x86_64.whl (10.1 MB)\n",
            "\u001b[K     |████████████████████████████████| 10.1 MB 51.2 MB/s \n",
            "\u001b[?25hRequirement already satisfied: blis<0.8.0,>=0.4.0 in /usr/local/lib/python3.7/dist-packages (from spacy) (0.4.1)\n",
            "Requirement already satisfied: requests<3.0.0,>=2.13.0 in /usr/local/lib/python3.7/dist-packages (from spacy) (2.23.0)\n",
            "Collecting langcodes<4.0.0,>=3.2.0\n",
            "  Downloading langcodes-3.3.0-py3-none-any.whl (181 kB)\n",
            "\u001b[K     |████████████████████████████████| 181 kB 33.8 MB/s \n",
            "\u001b[?25hRequirement already satisfied: tqdm<5.0.0,>=4.38.0 in /usr/local/lib/python3.7/dist-packages (from spacy) (4.64.0)\n",
            "Requirement already satisfied: zipp>=0.5 in /usr/local/lib/python3.7/dist-packages (from catalogue<2.1.0,>=2.0.6->spacy) (3.8.0)\n",
            "Requirement already satisfied: pyparsing!=3.0.5,>=2.0.2 in /usr/local/lib/python3.7/dist-packages (from packaging>=20.0->spacy) (3.0.9)\n",
            "Collecting smart-open<6.0.0,>=5.0.0\n",
            "  Downloading smart_open-5.2.1-py3-none-any.whl (58 kB)\n",
            "\u001b[K     |████████████████████████████████| 58 kB 5.2 MB/s \n",
            "\u001b[?25hRequirement already satisfied: certifi>=2017.4.17 in /usr/local/lib/python3.7/dist-packages (from requests<3.0.0,>=2.13.0->spacy) (2022.5.18.1)\n",
            "Requirement already satisfied: urllib3!=1.25.0,!=1.25.1,<1.26,>=1.21.1 in /usr/local/lib/python3.7/dist-packages (from requests<3.0.0,>=2.13.0->spacy) (1.24.3)\n",
            "Requirement already satisfied: chardet<4,>=3.0.2 in /usr/local/lib/python3.7/dist-packages (from requests<3.0.0,>=2.13.0->spacy) (3.0.4)\n",
            "Requirement already satisfied: idna<3,>=2.5 in /usr/local/lib/python3.7/dist-packages (from requests<3.0.0,>=2.13.0->spacy) (2.10)\n",
            "Requirement already satisfied: click<9.0.0,>=7.1.1 in /usr/local/lib/python3.7/dist-packages (from typer<0.5.0,>=0.3.0->spacy) (7.1.2)\n",
            "Requirement already satisfied: MarkupSafe>=0.23 in /usr/local/lib/python3.7/dist-packages (from jinja2->spacy) (2.0.1)\n",
            "Installing collected packages: typing-extensions, catalogue, typer, srsly, smart-open, pydantic, thinc, spacy-loggers, spacy-legacy, pathy, langcodes, spacy\n",
            "  Attempting uninstall: typing-extensions\n",
            "    Found existing installation: typing-extensions 4.2.0\n",
            "    Uninstalling typing-extensions-4.2.0:\n",
            "      Successfully uninstalled typing-extensions-4.2.0\n",
            "  Attempting uninstall: catalogue\n",
            "    Found existing installation: catalogue 1.0.0\n",
            "    Uninstalling catalogue-1.0.0:\n",
            "      Successfully uninstalled catalogue-1.0.0\n",
            "  Attempting uninstall: srsly\n",
            "    Found existing installation: srsly 1.0.5\n",
            "    Uninstalling srsly-1.0.5:\n",
            "      Successfully uninstalled srsly-1.0.5\n",
            "  Attempting uninstall: smart-open\n",
            "    Found existing installation: smart-open 6.0.0\n",
            "    Uninstalling smart-open-6.0.0:\n",
            "      Successfully uninstalled smart-open-6.0.0\n",
            "  Attempting uninstall: thinc\n",
            "    Found existing installation: thinc 7.4.0\n",
            "    Uninstalling thinc-7.4.0:\n",
            "      Successfully uninstalled thinc-7.4.0\n",
            "  Attempting uninstall: spacy\n",
            "    Found existing installation: spacy 2.2.4\n",
            "    Uninstalling spacy-2.2.4:\n",
            "      Successfully uninstalled spacy-2.2.4\n",
            "Successfully installed catalogue-2.0.7 langcodes-3.3.0 pathy-0.6.1 pydantic-1.8.2 smart-open-5.2.1 spacy-3.3.1 spacy-legacy-3.0.9 spacy-loggers-1.0.2 srsly-2.4.3 thinc-8.0.17 typer-0.4.1 typing-extensions-4.1.1\n"
          ]
        }
      ]
    },
    {
      "cell_type": "code",
      "source": [
        "import csv\n",
        "import io\n",
        "import os\n",
        "\n",
        "import spacy \n",
        "from spacy.util import minibatch, compounding\n",
        "from random import shuffle, seed\n",
        "import numpy as np\n",
        "import torch\n",
        "from copy import deepcopy\n",
        "from spacy.training import Example\n",
        "from sklearn.model_selection import train_test_split"
      ],
      "metadata": {
        "id": "7ElOSYKRECP0"
      },
      "execution_count": 2,
      "outputs": []
    },
    {
      "cell_type": "code",
      "source": [
        "from google.colab import drive\n",
        "drive.mount('/content/drive')"
      ],
      "metadata": {
        "colab": {
          "base_uri": "https://localhost:8080/"
        },
        "id": "FW2Avk_nECSa",
        "outputId": "9a8b0a0c-0380-404a-d4b5-a47fe616dd6a"
      },
      "execution_count": 3,
      "outputs": [
        {
          "output_type": "stream",
          "name": "stdout",
          "text": [
            "Mounted at /content/drive\n"
          ]
        }
      ]
    },
    {
      "cell_type": "code",
      "source": [
        "file_path = '/content/drive/MyDrive/Colab Notebooks/data/capstone/anno_8_tc.csv'"
      ],
      "metadata": {
        "id": "XMPcUYUxECVU"
      },
      "execution_count": 4,
      "outputs": []
    },
    {
      "cell_type": "markdown",
      "source": [
        "# Data Preparation"
      ],
      "metadata": {
        "id": "IkH946qg_-x4"
      }
    },
    {
      "cell_type": "markdown",
      "source": [
        "### Load in data"
      ],
      "metadata": {
        "id": "LfPryO18JyqR"
      }
    },
    {
      "cell_type": "code",
      "source": [
        "with open(file_path) as f:\n",
        "    f.readline()\n",
        "    reader = csv.reader(f)\n",
        "    data = list(reader)"
      ],
      "metadata": {
        "id": "X2-T7mchECYe"
      },
      "execution_count": 5,
      "outputs": []
    },
    {
      "cell_type": "code",
      "source": [
        "print(data[:5])"
      ],
      "metadata": {
        "colab": {
          "base_uri": "https://localhost:8080/"
        },
        "id": "g3BYT77xECbX",
        "outputId": "c5ab48b4-7504-438f-8cac-db4c5bee477d"
      },
      "execution_count": 6,
      "outputs": [
        {
          "output_type": "stream",
          "name": "stdout",
          "text": [
            "[['S1', '*'], ['Enter', 'O'], ['email', 'O'], ['address', 'O'], ['to', 'O']]\n"
          ]
        }
      ]
    },
    {
      "cell_type": "markdown",
      "source": [
        "### Change to SpaCy format"
      ],
      "metadata": {
        "id": "F5x0OHml5vCT"
      }
    },
    {
      "cell_type": "code",
      "source": [
        "# Change to SpaCy format\n",
        "sents = []\n",
        "sent = []\n",
        "for word, tag in data:\n",
        "  if tag == '*':\n",
        "    if len(sent) > 0:\n",
        "        sents.append(sent)\n",
        "        sent = []\n",
        "    else:\n",
        "        continue\n",
        "  else:\n",
        "    sent.append((word, tag))"
      ],
      "metadata": {
        "id": "LJgyFB2j3l5-"
      },
      "execution_count": 7,
      "outputs": []
    },
    {
      "cell_type": "code",
      "source": [
        "# sents"
      ],
      "metadata": {
        "id": "_05wAR407Go4"
      },
      "execution_count": 8,
      "outputs": []
    },
    {
      "cell_type": "code",
      "source": [
        "def get_entity(tag):\n",
        "    return tag[2:]\n",
        "\n",
        "\n",
        "def get_spacy_ner_data(data):\n",
        "    result = []\n",
        "    for sent in data:\n",
        "        words = []\n",
        "        entities = {'entities': []}\n",
        "        i, start, end = 0, 0, 0\n",
        "\n",
        "        for idx, (word, cur_tag) in enumerate(sent):\n",
        "            if cur_tag[0] == 'B':\n",
        "                tag = get_entity(cur_tag)\n",
        "                start = i\n",
        "                end = i + len(word)\n",
        "\n",
        "            if cur_tag[0] == 'I':\n",
        "                end += (1 + len(word))\n",
        "\n",
        "            if cur_tag[0] == 'O':\n",
        "                start = i\n",
        "                end = i\n",
        "\n",
        "            if end > start:\n",
        "                if (idx == len(sent) - 1) or (not sent[idx+1][1][0] == 'I'):\n",
        "                    entities['entities'].append([start, end, tag])\n",
        "\n",
        "            i += (len(word) + 1)\n",
        "            words.append(word)\n",
        "\n",
        "        complete_sent = ' '.join(words)\n",
        "        result.append((complete_sent, entities))\n",
        "    return result"
      ],
      "metadata": {
        "id": "c1LzlGwtKNTQ"
      },
      "execution_count": 9,
      "outputs": []
    },
    {
      "cell_type": "code",
      "source": [
        "spacy_sents = get_spacy_ner_data(sents)"
      ],
      "metadata": {
        "id": "XH8ojK5LEChE"
      },
      "execution_count": 10,
      "outputs": []
    },
    {
      "cell_type": "markdown",
      "source": [
        "### Split train and test "
      ],
      "metadata": {
        "id": "whiwkGWm50Df"
      }
    },
    {
      "cell_type": "code",
      "source": [
        "train_set, dev_set = train_test_split(spacy_sents, test_size=0.2, shuffle=True)"
      ],
      "metadata": {
        "id": "2SJoPwOlJv6b"
      },
      "execution_count": 11,
      "outputs": []
    },
    {
      "cell_type": "code",
      "source": [
        "print(len(train_set), len(dev_set))"
      ],
      "metadata": {
        "colab": {
          "base_uri": "https://localhost:8080/"
        },
        "id": "tmW5Aaaw6ObV",
        "outputId": "0603d9f6-0ea3-41de-b69a-382a62639e27"
      },
      "execution_count": 12,
      "outputs": [
        {
          "output_type": "stream",
          "name": "stdout",
          "text": [
            "33 9\n"
          ]
        }
      ]
    },
    {
      "cell_type": "code",
      "source": [
        "i = 0\n",
        "for a, b in zip(sents, spacy_sents):\n",
        "  print(i)\n",
        "  print(a)\n",
        "  print(b)\n",
        "  print()\n",
        "  i+=1"
      ],
      "metadata": {
        "colab": {
          "base_uri": "https://localhost:8080/"
        },
        "id": "oPzVtSkxdJHj",
        "outputId": "363697a7-7e87-4875-8eae-1e5ac7c70286"
      },
      "execution_count": 13,
      "outputs": [
        {
          "output_type": "stream",
          "name": "stdout",
          "text": [
            "0\n",
            "[('Enter', 'O'), ('email', 'O'), ('address', 'O'), ('to', 'O'), ('Email', 'B-location'), ('textbox', 'I-location'), ('admin1@mail.com', 'B-value')]\n",
            "('Enter email address to Email textbox admin1@mail.com', {'entities': [[23, 36, 'location'], [37, 52, 'value']]})\n",
            "\n",
            "1\n",
            "[('Enter', 'O'), ('password', 'O'), ('to', 'O'), ('Password', 'B-location'), ('textbox', 'I-location'), ('Admin@123', 'B-value')]\n",
            "('Enter password to Password textbox Admin@123', {'entities': [[18, 34, 'location'], [35, 44, 'value']]})\n",
            "\n",
            "2\n",
            "[('Click', 'O'), ('button', 'B-value'), ('Login', 'I-value')]\n",
            "('Click button Login', {'entities': [[6, 18, 'value']]})\n",
            "\n",
            "3\n",
            "[('Wait', 'O'), ('title', 'B-value'), ('to', 'O'), ('be', 'O'), ('present', 'O'), ('for', 'O'), ('30', 'B-time'), ('seconds', 'I-time')]\n",
            "('Wait title to be present for 30 seconds', {'entities': [[5, 10, 'value'], [29, 39, 'time']]})\n",
            "\n",
            "4\n",
            "[('Enter', 'O'), ('email', 'O'), ('address', 'O'), ('to', 'O'), ('Email', 'B-location'), ('textbox', 'I-location'), ('invalid@wrong', 'B-value')]\n",
            "('Enter email address to Email textbox invalid@wrong', {'entities': [[23, 36, 'location'], [37, 50, 'value']]})\n",
            "\n",
            "5\n",
            "[('Enter', 'O'), ('password', 'O'), ('to', 'O'), ('Password', 'B-location'), ('textbox', 'I-location'), ('invalidpassword', 'B-value')]\n",
            "('Enter password to Password textbox invalidpassword', {'entities': [[18, 34, 'location'], [35, 50, 'value']]})\n",
            "\n",
            "6\n",
            "[('Click', 'O'), ('Login', 'B-value'), ('button', 'I-value')]\n",
            "('Click Login button', {'entities': [[6, 18, 'value']]})\n",
            "\n",
            "7\n",
            "[('Wait', 'O'), ('email', 'B-value'), ('error', 'I-value'), ('message', 'I-value'), ('to', 'O'), ('appear', 'O'), ('for', 'O'), ('3', 'B-time'), ('seconds', 'I-time')]\n",
            "('Wait email error message to appear for 3 seconds', {'entities': [[5, 24, 'value'], [39, 48, 'time']]})\n",
            "\n",
            "8\n",
            "[('Get', 'O'), ('email', 'B-value'), ('error', 'I-value'), ('message', 'I-value')]\n",
            "('Get email error message', {'entities': [[4, 23, 'value']]})\n",
            "\n",
            "9\n",
            "[('Check', 'O'), ('if', 'O'), ('actual', 'B-value'), ('error', 'B-value'), ('message', 'B-value'), ('is', 'O'), ('correct', 'O')]\n",
            "('Check if actual error message is correct', {'entities': [[9, 15, 'value'], [16, 21, 'value'], [22, 29, 'value']]})\n",
            "\n",
            "10\n",
            "[('Wait', 'O'), ('password', 'B-value'), ('error', 'I-value'), ('message', 'I-value'), ('to', 'O'), ('appear', 'O'), ('for', 'O'), ('3', 'B-time'), ('seconds', 'B-time')]\n",
            "('Wait password error message to appear for 3 seconds', {'entities': [[5, 27, 'value'], [42, 43, 'time'], [44, 51, 'time']]})\n",
            "\n",
            "11\n",
            "[('Get', 'O'), ('password', 'B-value'), ('error', 'I-value'), ('message', 'I-value')]\n",
            "('Get password error message', {'entities': [[4, 26, 'value']]})\n",
            "\n",
            "12\n",
            "[('Check', 'O'), ('if', 'O'), ('actual', 'B-value'), ('password', 'I-value'), ('message', 'I-value'), ('is', 'O'), ('correct', 'O')]\n",
            "('Check if actual password message is correct', {'entities': [[9, 32, 'value']]})\n",
            "\n",
            "13\n",
            "[('On', 'O'), ('the', 'O'), ('Dashboard', 'O'), ('page', 'O'), (',', 'O'), ('click', 'O'), ('the', 'O'), ('avatar', 'B-value'), ('on', 'O'), ('the', 'O'), ('top', 'O'), ('right', 'O'), ('corner', 'O'), ('to', 'O'), ('open', 'O'), ('menu', 'O')]\n",
            "('On the Dashboard page , click the avatar on the top right corner to open menu', {'entities': [[34, 40, 'value']]})\n",
            "\n",
            "14\n",
            "[('Click', 'O'), ('button', 'B-value'), ('Sign', 'I-value'), ('out', 'I-value')]\n",
            "('Click button Sign out', {'entities': [[6, 21, 'value']]})\n",
            "\n",
            "15\n",
            "[('Wait', 'O'), ('Login', 'B-value'), ('button', 'I-value'), ('to', 'O'), ('appear', 'O'), ('for', 'O'), ('10s', 'B-time')]\n",
            "('Wait Login button to appear for 10s', {'entities': [[5, 17, 'value'], [32, 35, 'time']]})\n",
            "\n",
            "16\n",
            "[('Click', 'O'), (\"User's\", 'B-value'), ('avatar', 'I-value'), ('on', 'O'), ('the', 'O'), ('top', 'O'), ('right', 'O')]\n",
            "(\"Click User's avatar on the top right\", {'entities': [[6, 19, 'value']]})\n",
            "\n",
            "17\n",
            "[('Click', 'O'), ('Change', 'B-value'), ('Password', 'I-value'), ('link', 'I-value')]\n",
            "('Click Change Password link', {'entities': [[6, 26, 'value']]})\n",
            "\n",
            "18\n",
            "[('Wait', 'O'), ('title', 'B-value'), ('to', 'O'), ('appear', 'O'), ('for', 'O'), ('10', 'B-time')]\n",
            "('Wait title to appear for 10', {'entities': [[5, 10, 'value'], [25, 27, 'time']]})\n",
            "\n",
            "19\n",
            "[('Enter', 'O')]\n",
            "('Enter', {'entities': []})\n",
            "\n",
            "20\n",
            "[('to', 'O'), ('current', 'B-location'), ('password', 'I-location'), ('text', 'I-location'), ('box', 'I-location'), ('Admin@123', 'B-value')]\n",
            "('to current password text box Admin@123', {'entities': [[3, 28, 'location'], [29, 38, 'value']]})\n",
            "\n",
            "21\n",
            "[('Enter', 'O'), ('new', 'O'), ('password', 'O'), ('to', 'O'), ('new', 'B-location'), ('password', 'I-location'), ('text', 'I-location'), ('box', 'I-location'), ('Admin@1234', 'B-value')]\n",
            "('Enter new password to new password text box Admin@1234', {'entities': [[22, 43, 'location'], [44, 54, 'value']]})\n",
            "\n",
            "22\n",
            "[('Enter', 'O'), ('new', 'O'), ('password', 'O'), ('again', 'O'), ('to', 'O'), ('confirm', 'O'), ('password', 'O'), ('Admin@1234', 'B-value')]\n",
            "('Enter new password again to confirm password Admin@1234', {'entities': [[45, 55, 'value']]})\n",
            "\n",
            "23\n",
            "[('Click', 'O'), ('submit', 'B-value'), ('button', 'I-value')]\n",
            "('Click submit button', {'entities': [[6, 19, 'value']]})\n",
            "\n",
            "24\n",
            "[('On', 'O'), ('the', 'O'), ('Dashboard', 'O'), ('page', 'O'), (',', 'O'), ('click', 'O'), ('the', 'O'), ('avatar', 'B-value'), ('on', 'O'), ('the', 'O'), ('top', 'O'), ('right', 'O'), ('corner', 'O'), ('to', 'O'), ('open', 'O'), ('menu', 'O')]\n",
            "('On the Dashboard page , click the avatar on the top right corner to open menu', {'entities': [[34, 40, 'value']]})\n",
            "\n",
            "25\n",
            "[('Click', 'O'), ('button', 'B-value'), ('Change', 'I-value'), ('password', 'I-value'), ('to', 'O'), ('go', 'O'), ('to', 'O'), ('change', 'O'), ('password', 'O'), ('page', 'O')]\n",
            "('Click button Change password to go to change password page', {'entities': [[6, 28, 'value']]})\n",
            "\n",
            "26\n",
            "[('Wait', 'O'), ('title', 'B-value'), ('to', 'O'), ('appear', 'O'), ('for', 'O'), ('10', 'B-time')]\n",
            "('Wait title to appear for 10', {'entities': [[5, 10, 'value'], [25, 27, 'time']]})\n",
            "\n",
            "27\n",
            "[('Enter', 'O'), ('current', 'O'), ('password', 'O'), ('to', 'O'), ('current', 'B-location'), ('password', 'I-location'), ('text', 'I-location'), ('box', 'I-location'), ('Admin@1234', 'B-value')]\n",
            "('Enter current password to current password text box Admin@1234', {'entities': [[26, 51, 'location'], [52, 62, 'value']]})\n",
            "\n",
            "28\n",
            "[('Enter', 'O'), ('new', 'O'), ('password', 'O'), ('new', 'B-location'), ('password', 'I-location'), ('text', 'I-location'), ('box', 'I-location'), ('Admin@12345', 'B-value')]\n",
            "('Enter new password new password text box Admin@12345', {'entities': [[19, 40, 'location'], [41, 52, 'value']]})\n",
            "\n",
            "29\n",
            "[('Enter', 'O'), ('new', 'O'), ('password', 'O'), ('again', 'O'), ('confirm', 'B-location'), ('password', 'I-location'), ('textbox', 'I-location'), ('to', 'O'), ('confirm', 'O'), ('password', 'O'), ('Admin@12345', 'B-value')]\n",
            "('Enter new password again confirm password textbox to confirm password Admin@12345', {'entities': [[25, 49, 'location'], [70, 81, 'value']]})\n",
            "\n",
            "30\n",
            "[('Click', 'O'), ('submit', 'B-value'), ('button', 'I-value')]\n",
            "('Click submit button', {'entities': [[6, 19, 'value']]})\n",
            "\n",
            "31\n",
            "[('Click', 'O'), ('User’s', 'B-value'), ('avatar', 'I-value'), ('on', 'O'), ('the', 'O'), ('top', 'O'), ('right', 'O')]\n",
            "('Click User’s avatar on the top right', {'entities': [[6, 19, 'value']]})\n",
            "\n",
            "32\n",
            "[('Click', 'O'), ('My', 'B-value'), ('Profile', 'I-value'), ('link', 'I-value')]\n",
            "('Click My Profile link', {'entities': [[6, 21, 'value']]})\n",
            "\n",
            "33\n",
            "[('Wait', 'O'), ('email', 'B-value'), ('to', 'O'), ('appear', 'O'), ('for', 'O'), ('20s', 'B-time')]\n",
            "('Wait email to appear for 20s', {'entities': [[5, 10, 'value'], [25, 28, 'time']]})\n",
            "\n",
            "34\n",
            "[('Enter', 'O'), ('new', 'O'), ('full', 'O'), ('name', 'O'), ('to', 'O'), ('full', 'B-location'), ('name', 'I-location'), ('text', 'I-location'), ('box', 'I-location'), ('new', 'B-value'), ('name', 'I-value')]\n",
            "('Enter new full name to full name text box new name', {'entities': [[23, 41, 'location'], [42, 50, 'value']]})\n",
            "\n",
            "35\n",
            "[('Enter', 'O'), ('new', 'O'), ('phone', 'O'), ('number', 'O'), ('to', 'O'), ('phone', 'B-location'), ('number', 'I-location'), ('text', 'I-location'), ('box', 'I-location'), ('1234567890', 'B-value')]\n",
            "('Enter new phone number to phone number text box 1234567890', {'entities': [[26, 47, 'location'], [48, 58, 'value']]})\n",
            "\n",
            "36\n",
            "[('Click', 'O'), ('submit', 'B-value'), ('button', 'I-value')]\n",
            "('Click submit button', {'entities': [[6, 19, 'value']]})\n",
            "\n",
            "37\n",
            "[('On', 'O'), ('the', 'O'), ('Dashboard', 'O'), ('page', 'O'), (',', 'O'), ('click', 'O'), ('the', 'O'), ('avatar', 'B-value'), ('on', 'O'), ('the', 'O'), ('top', 'O'), ('right', 'O'), ('corner', 'O'), ('to', 'O'), ('open', 'O'), ('menu', 'O')]\n",
            "('On the Dashboard page , click the avatar on the top right corner to open menu', {'entities': [[34, 40, 'value']]})\n",
            "\n",
            "38\n",
            "[('Click', 'O'), ('button', 'B-value'), ('My', 'I-value'), ('Profile', 'I-value'), ('to', 'O'), ('go', 'O'), ('to', 'O'), ('Update', 'O'), ('my', 'O'), ('Profile', 'O'), ('page', 'O')]\n",
            "('Click button My Profile to go to Update my Profile page', {'entities': [[6, 23, 'value']]})\n",
            "\n",
            "39\n",
            "[('Wait', 'O'), ('for', 'O'), ('email', 'B-value'), ('to', 'O'), ('appear', 'O'), ('for', 'O'), ('20', 'B-time')]\n",
            "('Wait for email to appear for 20', {'entities': [[9, 14, 'value'], [29, 31, 'time']]})\n",
            "\n",
            "40\n",
            "[('Enter', 'O'), ('new', 'O'), ('full', 'O'), ('name', 'O'), ('to', 'O'), ('full', 'B-location'), ('name', 'B-location'), ('text', 'I-location'), ('box', 'I-location')]\n",
            "('Enter new full name to full name text box', {'entities': [[23, 27, 'location'], [28, 41, 'location']]})\n",
            "\n",
            "41\n",
            "[('Enter', 'O'), ('new', 'O'), ('phone', 'O'), ('number', 'O'), ('to', 'O'), ('phone', 'B-location'), ('number', 'I-location'), ('text', 'I-location'), ('box', 'I-location'), ('12345678', 'B-value')]\n",
            "('Enter new phone number to phone number text box 12345678', {'entities': [[26, 47, 'location'], [48, 56, 'value']]})\n",
            "\n"
          ]
        }
      ]
    },
    {
      "cell_type": "code",
      "source": [
        "train_set"
      ],
      "metadata": {
        "colab": {
          "base_uri": "https://localhost:8080/"
        },
        "id": "IbFlwRzdCGoP",
        "outputId": "f93c1905-bd76-4d0e-b2e7-b1f9a7443f3f"
      },
      "execution_count": 14,
      "outputs": [
        {
          "output_type": "execute_result",
          "data": {
            "text/plain": [
              "[('Enter email address to Email textbox invalid@wrong',\n",
              "  {'entities': [[23, 36, 'location'], [37, 50, 'value']]}),\n",
              " ('Click button My Profile to go to Update my Profile page',\n",
              "  {'entities': [[6, 23, 'value']]}),\n",
              " ('Wait email error message to appear for 3 seconds',\n",
              "  {'entities': [[5, 24, 'value'], [39, 48, 'time']]}),\n",
              " ('On the Dashboard page , click the avatar on the top right corner to open menu',\n",
              "  {'entities': [[34, 40, 'value']]}),\n",
              " ('Click submit button', {'entities': [[6, 19, 'value']]}),\n",
              " ('Enter new full name to full name text box',\n",
              "  {'entities': [[23, 27, 'location'], [28, 41, 'location']]}),\n",
              " ('Enter', {'entities': []}),\n",
              " ('Wait title to appear for 10',\n",
              "  {'entities': [[5, 10, 'value'], [25, 27, 'time']]}),\n",
              " ('Click button Change password to go to change password page',\n",
              "  {'entities': [[6, 28, 'value']]}),\n",
              " ('Enter password to Password textbox invalidpassword',\n",
              "  {'entities': [[18, 34, 'location'], [35, 50, 'value']]}),\n",
              " ('Click submit button', {'entities': [[6, 19, 'value']]}),\n",
              " ('Enter current password to current password text box Admin@1234',\n",
              "  {'entities': [[26, 51, 'location'], [52, 62, 'value']]}),\n",
              " ('Click User’s avatar on the top right', {'entities': [[6, 19, 'value']]}),\n",
              " ('Click My Profile link', {'entities': [[6, 21, 'value']]}),\n",
              " ('Get password error message', {'entities': [[4, 26, 'value']]}),\n",
              " ('On the Dashboard page , click the avatar on the top right corner to open menu',\n",
              "  {'entities': [[34, 40, 'value']]}),\n",
              " ('Enter new phone number to phone number text box 1234567890',\n",
              "  {'entities': [[26, 47, 'location'], [48, 58, 'value']]}),\n",
              " ('Click button Login', {'entities': [[6, 18, 'value']]}),\n",
              " ('Wait email to appear for 20s',\n",
              "  {'entities': [[5, 10, 'value'], [25, 28, 'time']]}),\n",
              " ('to current password text box Admin@123',\n",
              "  {'entities': [[3, 28, 'location'], [29, 38, 'value']]}),\n",
              " ('Enter new full name to full name text box new name',\n",
              "  {'entities': [[23, 41, 'location'], [42, 50, 'value']]}),\n",
              " ('Click Change Password link', {'entities': [[6, 26, 'value']]}),\n",
              " ('Check if actual error message is correct',\n",
              "  {'entities': [[9, 15, 'value'], [16, 21, 'value'], [22, 29, 'value']]}),\n",
              " ('Enter new password again confirm password textbox to confirm password Admin@12345',\n",
              "  {'entities': [[25, 49, 'location'], [70, 81, 'value']]}),\n",
              " ('Click Login button', {'entities': [[6, 18, 'value']]}),\n",
              " ('Check if actual password message is correct',\n",
              "  {'entities': [[9, 32, 'value']]}),\n",
              " ('Enter new password again to confirm password Admin@1234',\n",
              "  {'entities': [[45, 55, 'value']]}),\n",
              " ('Wait title to be present for 30 seconds',\n",
              "  {'entities': [[5, 10, 'value'], [29, 39, 'time']]}),\n",
              " ('Wait password error message to appear for 3 seconds',\n",
              "  {'entities': [[5, 27, 'value'], [42, 43, 'time'], [44, 51, 'time']]}),\n",
              " ('Enter new phone number to phone number text box 12345678',\n",
              "  {'entities': [[26, 47, 'location'], [48, 56, 'value']]}),\n",
              " ('Get email error message', {'entities': [[4, 23, 'value']]}),\n",
              " ('Click button Sign out', {'entities': [[6, 21, 'value']]}),\n",
              " ('Enter new password to new password text box Admin@1234',\n",
              "  {'entities': [[22, 43, 'location'], [44, 54, 'value']]})]"
            ]
          },
          "metadata": {},
          "execution_count": 14
        }
      ]
    },
    {
      "cell_type": "markdown",
      "source": [
        "# Evaluation"
      ],
      "metadata": {
        "id": "_qh3ICx46VD8"
      }
    },
    {
      "cell_type": "code",
      "source": [
        "def evaluate(sys_spacy_data, gold_spacy_data):\n",
        "    precision, recall, fscore = 0, 0, 0\n",
        "\n",
        "    # your code here\n",
        "    tp = 0\n",
        "    fp = 0\n",
        "    fn = 0\n",
        "\n",
        "    for sys_ex, gold_ex in zip(sys_spacy_data, gold_spacy_data):\n",
        "        gold_annotations = set([tuple(e) for e in gold_ex[1][\"entities\"]])\n",
        "        sys_annotations = set([tuple(e) for e in sys_ex[1][\"entities\"]])\n",
        "\n",
        "        tp += len(sys_annotations.intersection(gold_annotations))\n",
        "        fp += len(sys_annotations.difference(gold_annotations))\n",
        "        fn += len(gold_annotations.difference(sys_annotations))\n",
        "\n",
        "    if tp != 0:\n",
        "        recall = (tp/(tp+fn)) * 100\n",
        "        precision = (tp/(tp+fp)) * 100\n",
        "        fscore = 2*recall*precision/(recall+precision)\n",
        "\n",
        "    return precision, recall, fscore"
      ],
      "metadata": {
        "id": "CnRzl7HAECj2"
      },
      "execution_count": 15,
      "outputs": []
    },
    {
      "cell_type": "markdown",
      "source": [
        "# NER Model"
      ],
      "metadata": {
        "id": "_yOO3GT66aOy"
      }
    },
    {
      "cell_type": "markdown",
      "source": [
        "### Initialize NER Model"
      ],
      "metadata": {
        "id": "Hq782fpK64XY"
      }
    },
    {
      "cell_type": "code",
      "source": [
        "def init_model(spacy_train_data, language):\n",
        "    model = spacy.blank(language)\n",
        "\n",
        "    seed(0)\n",
        "    np.random.seed(0)\n",
        "    spacy.util.fix_random_seed(0)\n",
        "    torch.manual_seed(0)\n",
        "\n",
        "    model.add_pipe(\"ner\", last=True)\n",
        "    ner = model.get_pipe(\"ner\")\n",
        "\n",
        "    for _, annotations in spacy_train_data:\n",
        "        for ent in annotations.get(\"entities\"):\n",
        "            ner.add_label(ent[2])\n",
        "\n",
        "    # Make sure we're only training the NER component of the pipeline\n",
        "    pipe_exceptions = [\"ner\"]\n",
        "    other_pipes = [pipe for pipe in model.pipe_names if pipe not in pipe_exceptions]\n",
        "\n",
        "    # Start training so that we can use the model to annotate data\n",
        "    model.disable_pipes(*other_pipes)\n",
        "    optimizer = model.begin_training()\n",
        "    return model, optimizer\n",
        "\n",
        "\n",
        "untrained_model, _ = init_model(train_set, \"en\")"
      ],
      "metadata": {
        "id": "U08yXATIECmr"
      },
      "execution_count": 16,
      "outputs": []
    },
    {
      "cell_type": "markdown",
      "source": [
        "### Annotate"
      ],
      "metadata": {
        "id": "VwhAjWRZ-jwa"
      }
    },
    {
      "cell_type": "code",
      "source": [
        "def annotate(spacy_data, model):\n",
        "    result = []\n",
        "\n",
        "    # your code here\n",
        "    for sent, _ in spacy_data:\n",
        "        doc = model(sent)\n",
        "        entities = []\n",
        "        for ent in doc.ents:\n",
        "            entities.append((ent.start_char, ent.end_char, ent.label_))\n",
        "        result.append((sent, {\"entities\": entities}))\n",
        "    return result"
      ],
      "metadata": {
        "id": "fLzMA1aF6f1B"
      },
      "execution_count": 17,
      "outputs": []
    },
    {
      "cell_type": "markdown",
      "source": [
        "### Train data"
      ],
      "metadata": {
        "id": "yf2as7n8-tAp"
      }
    },
    {
      "cell_type": "code",
      "source": [
        "def train(spacy_train_data, spacy_dev_data, epochs,language):\n",
        "    # Initialize model and get optimizer\n",
        "    model, optimizer = init_model(spacy_train_data,language)\n",
        "\n",
        "    # Make sure we don't permute the original training data.\n",
        "    spacy_train_data = deepcopy(spacy_train_data)\n",
        "\n",
        "    for itn in range(epochs):\n",
        "        losses = {}\n",
        "\n",
        "        # Create batches\n",
        "        shuffle(spacy_train_data)\n",
        "        batches = minibatch(spacy_train_data, size=compounding(4.0, 32.0, 1.001))\n",
        "        for batch in batches:\n",
        "            texts, annotations = zip(*batch)\n",
        "            example = []\n",
        "\n",
        "            # Update the model with iterating each text\n",
        "            for j in range(len(texts)):\n",
        "                doc = model.make_doc(texts[j])\n",
        "                example.append(Example.from_dict(doc, annotations[j]))\n",
        "\n",
        "            model.update(example,\n",
        "                         losses=losses,\n",
        "                         drop=0.1)\n",
        "\n",
        "        # Evaluate model\n",
        "        print(\"Loss for epoch %u: %.4f\" % (itn+1, losses[\"ner\"]))\n",
        "        spacy_dev_sys = annotate(spacy_dev_data, model)\n",
        "        p, r, f = evaluate(spacy_dev_sys,spacy_dev_data)\n",
        "        print(\"  PRECISION: %.2f%%, RECALL: %.2f%%, F-SCORE: %.2f%%\" % (p,r,f))\n",
        "    return model"
      ],
      "metadata": {
        "id": "qUOagGhu-l0V"
      },
      "execution_count": 18,
      "outputs": []
    },
    {
      "cell_type": "code",
      "source": [
        "ner_model = train(train_set, dev_set, 10, \"en\")\n",
        "print()\n",
        "print(\"Evaluating model on development set:\")\n",
        "\n",
        "dev_sys = annotate(dev_set, ner_model)\n",
        "\n",
        "p, r, f = evaluate(dev_sys,dev_set)\n",
        "print(\"  PRECISION: %.2f%%, RECALL: %.2f%%, F-SCORE: %.2f%%\" % (p,r,f))"
      ],
      "metadata": {
        "id": "C0kceBxM-wfN",
        "colab": {
          "base_uri": "https://localhost:8080/"
        },
        "outputId": "42b83a45-c05d-4100-9af7-1d0d99424679"
      },
      "execution_count": 19,
      "outputs": [
        {
          "output_type": "stream",
          "name": "stdout",
          "text": [
            "Loss for epoch 1: 192.2987\n",
            "  PRECISION: 0.00%, RECALL: 0.00%, F-SCORE: 0.00%\n",
            "Loss for epoch 2: 88.2957\n",
            "  PRECISION: 0.00%, RECALL: 0.00%, F-SCORE: 0.00%\n",
            "Loss for epoch 3: 67.3766\n",
            "  PRECISION: 66.67%, RECALL: 26.67%, F-SCORE: 38.10%\n",
            "Loss for epoch 4: 64.4912\n",
            "  PRECISION: 87.50%, RECALL: 46.67%, F-SCORE: 60.87%\n",
            "Loss for epoch 5: 90.5778\n",
            "  PRECISION: 71.43%, RECALL: 66.67%, F-SCORE: 68.97%\n",
            "Loss for epoch 6: 78.0169\n",
            "  PRECISION: 75.00%, RECALL: 60.00%, F-SCORE: 66.67%\n",
            "Loss for epoch 7: 45.5708\n",
            "  PRECISION: 75.00%, RECALL: 60.00%, F-SCORE: 66.67%\n",
            "Loss for epoch 8: 29.5326\n",
            "  PRECISION: 75.00%, RECALL: 60.00%, F-SCORE: 66.67%\n",
            "Loss for epoch 9: 21.5934\n",
            "  PRECISION: 100.00%, RECALL: 93.33%, F-SCORE: 96.55%\n",
            "Loss for epoch 10: 15.1252\n",
            "  PRECISION: 100.00%, RECALL: 93.33%, F-SCORE: 96.55%\n",
            "\n",
            "Evaluating model on development set:\n",
            "  PRECISION: 100.00%, RECALL: 93.33%, F-SCORE: 96.55%\n"
          ]
        }
      ]
    },
    {
      "cell_type": "code",
      "source": [
        "# dev_sys"
      ],
      "metadata": {
        "id": "MQs_9WQSCtlg"
      },
      "execution_count": 20,
      "outputs": []
    },
    {
      "cell_type": "code",
      "source": [
        "# dev_set"
      ],
      "metadata": {
        "id": "FqCquEmmDecW"
      },
      "execution_count": 21,
      "outputs": []
    },
    {
      "cell_type": "markdown",
      "source": [
        "### Check if dataset size affects F-score"
      ],
      "metadata": {
        "id": "nKrYtGfPvpgl"
      }
    },
    {
      "cell_type": "code",
      "source": [
        "data_size = [10, 15, 20, 25, 30, 35, 40]\n",
        "fscores = []\n",
        "\n",
        "for num in data_size:\n",
        "    print(f'\\n\\nSize: {num}\\n')\n",
        "    train_set, dev_set = train_test_split(spacy_sents[:num], test_size=0.2, shuffle=True)\n",
        "\n",
        "    ner_model = train(train_set, dev_set, 10, \"en\")\n",
        "    print()\n",
        "    print(\"Evaluating model on development set:\")\n",
        "\n",
        "    dev_sys = annotate(dev_set, ner_model)\n",
        "\n",
        "    p, r, f = evaluate(dev_sys,dev_set)\n",
        "    print(\"  PRECISION: %.2f%%, RECALL: %.2f%%, F-SCORE: %.2f%%\" % (p,r,f))\n",
        "\n",
        "    fscores.append(f)"
      ],
      "metadata": {
        "id": "QLjAW3g_Df8z",
        "colab": {
          "base_uri": "https://localhost:8080/"
        },
        "outputId": "41853e60-2ced-4d83-e557-1b67c1879abc"
      },
      "execution_count": 22,
      "outputs": [
        {
          "output_type": "stream",
          "name": "stdout",
          "text": [
            "\n",
            "\n",
            "Size: 10\n",
            "\n",
            "Loss for epoch 1: 43.2972\n",
            "  PRECISION: 0.00%, RECALL: 0.00%, F-SCORE: 0.00%\n",
            "Loss for epoch 2: 41.4363\n",
            "  PRECISION: 0.00%, RECALL: 0.00%, F-SCORE: 0.00%\n",
            "Loss for epoch 3: 37.9194\n",
            "  PRECISION: 0.00%, RECALL: 0.00%, F-SCORE: 0.00%\n",
            "Loss for epoch 4: 29.9805\n",
            "  PRECISION: 0.00%, RECALL: 0.00%, F-SCORE: 0.00%\n",
            "Loss for epoch 5: 22.2543\n",
            "  PRECISION: 0.00%, RECALL: 0.00%, F-SCORE: 0.00%\n",
            "Loss for epoch 6: 18.6682\n",
            "  PRECISION: 0.00%, RECALL: 0.00%, F-SCORE: 0.00%\n",
            "Loss for epoch 7: 19.2726\n",
            "  PRECISION: 0.00%, RECALL: 0.00%, F-SCORE: 0.00%\n",
            "Loss for epoch 8: 17.6963\n",
            "  PRECISION: 0.00%, RECALL: 0.00%, F-SCORE: 0.00%\n",
            "Loss for epoch 9: 17.0996\n",
            "  PRECISION: 0.00%, RECALL: 0.00%, F-SCORE: 0.00%\n",
            "Loss for epoch 10: 17.0745\n",
            "  PRECISION: 100.00%, RECALL: 20.00%, F-SCORE: 33.33%\n",
            "\n",
            "Evaluating model on development set:\n",
            "  PRECISION: 100.00%, RECALL: 20.00%, F-SCORE: 33.33%\n",
            "\n",
            "\n",
            "Size: 15\n",
            "\n",
            "Loss for epoch 1: 74.8396\n",
            "  PRECISION: 0.00%, RECALL: 0.00%, F-SCORE: 0.00%\n",
            "Loss for epoch 2: 67.6044\n",
            "  PRECISION: 0.00%, RECALL: 0.00%, F-SCORE: 0.00%\n",
            "Loss for epoch 3: 49.3738\n",
            "  PRECISION: 0.00%, RECALL: 0.00%, F-SCORE: 0.00%\n",
            "Loss for epoch 4: 31.7529\n",
            "  PRECISION: 0.00%, RECALL: 0.00%, F-SCORE: 0.00%\n",
            "Loss for epoch 5: 31.6347\n",
            "  PRECISION: 0.00%, RECALL: 0.00%, F-SCORE: 0.00%\n",
            "Loss for epoch 6: 27.9221\n",
            "  PRECISION: 0.00%, RECALL: 0.00%, F-SCORE: 0.00%\n",
            "Loss for epoch 7: 22.7537\n",
            "  PRECISION: 0.00%, RECALL: 0.00%, F-SCORE: 0.00%\n",
            "Loss for epoch 8: 38.4980\n",
            "  PRECISION: 50.00%, RECALL: 20.00%, F-SCORE: 28.57%\n",
            "Loss for epoch 9: 33.4662\n",
            "  PRECISION: 100.00%, RECALL: 40.00%, F-SCORE: 57.14%\n",
            "Loss for epoch 10: 30.3245\n",
            "  PRECISION: 75.00%, RECALL: 60.00%, F-SCORE: 66.67%\n",
            "\n",
            "Evaluating model on development set:\n",
            "  PRECISION: 75.00%, RECALL: 60.00%, F-SCORE: 66.67%\n",
            "\n",
            "\n",
            "Size: 20\n",
            "\n",
            "Loss for epoch 1: 77.5679\n",
            "  PRECISION: 0.00%, RECALL: 0.00%, F-SCORE: 0.00%\n",
            "Loss for epoch 2: 65.1217\n",
            "  PRECISION: 0.00%, RECALL: 0.00%, F-SCORE: 0.00%\n",
            "Loss for epoch 3: 41.7705\n",
            "  PRECISION: 0.00%, RECALL: 0.00%, F-SCORE: 0.00%\n",
            "Loss for epoch 4: 35.1643\n",
            "  PRECISION: 0.00%, RECALL: 0.00%, F-SCORE: 0.00%\n",
            "Loss for epoch 5: 29.8535\n",
            "  PRECISION: 0.00%, RECALL: 0.00%, F-SCORE: 0.00%\n",
            "Loss for epoch 6: 36.1709\n",
            "  PRECISION: 0.00%, RECALL: 0.00%, F-SCORE: 0.00%\n",
            "Loss for epoch 7: 38.5617\n",
            "  PRECISION: 16.67%, RECALL: 12.50%, F-SCORE: 14.29%\n",
            "Loss for epoch 8: 33.1535\n",
            "  PRECISION: 28.57%, RECALL: 25.00%, F-SCORE: 26.67%\n",
            "Loss for epoch 9: 23.9864\n",
            "  PRECISION: 0.00%, RECALL: 0.00%, F-SCORE: 0.00%\n",
            "Loss for epoch 10: 18.7811\n",
            "  PRECISION: 0.00%, RECALL: 0.00%, F-SCORE: 0.00%\n",
            "\n",
            "Evaluating model on development set:\n",
            "  PRECISION: 0.00%, RECALL: 0.00%, F-SCORE: 0.00%\n",
            "\n",
            "\n",
            "Size: 25\n",
            "\n",
            "Loss for epoch 1: 120.8005\n",
            "  PRECISION: 0.00%, RECALL: 0.00%, F-SCORE: 0.00%\n",
            "Loss for epoch 2: 83.6094\n",
            "  PRECISION: 0.00%, RECALL: 0.00%, F-SCORE: 0.00%\n",
            "Loss for epoch 3: 51.3033\n",
            "  PRECISION: 0.00%, RECALL: 0.00%, F-SCORE: 0.00%\n",
            "Loss for epoch 4: 46.7059\n",
            "  PRECISION: 0.00%, RECALL: 0.00%, F-SCORE: 0.00%\n",
            "Loss for epoch 5: 39.4342\n",
            "  PRECISION: 100.00%, RECALL: 12.50%, F-SCORE: 22.22%\n",
            "Loss for epoch 6: 34.9981\n",
            "  PRECISION: 0.00%, RECALL: 0.00%, F-SCORE: 0.00%\n",
            "Loss for epoch 7: 29.8944\n",
            "  PRECISION: 0.00%, RECALL: 0.00%, F-SCORE: 0.00%\n",
            "Loss for epoch 8: 27.9976\n",
            "  PRECISION: 0.00%, RECALL: 0.00%, F-SCORE: 0.00%\n",
            "Loss for epoch 9: 20.9642\n",
            "  PRECISION: 11.11%, RECALL: 12.50%, F-SCORE: 11.76%\n",
            "Loss for epoch 10: 23.5040\n",
            "  PRECISION: 22.22%, RECALL: 25.00%, F-SCORE: 23.53%\n",
            "\n",
            "Evaluating model on development set:\n",
            "  PRECISION: 22.22%, RECALL: 25.00%, F-SCORE: 23.53%\n",
            "\n",
            "\n",
            "Size: 30\n",
            "\n",
            "Loss for epoch 1: 148.6809\n",
            "  PRECISION: 0.00%, RECALL: 0.00%, F-SCORE: 0.00%\n",
            "Loss for epoch 2: 82.8068\n",
            "  PRECISION: 0.00%, RECALL: 0.00%, F-SCORE: 0.00%\n",
            "Loss for epoch 3: 62.0307\n",
            "  PRECISION: 0.00%, RECALL: 0.00%, F-SCORE: 0.00%\n",
            "Loss for epoch 4: 43.9356\n",
            "  PRECISION: 100.00%, RECALL: 22.22%, F-SCORE: 36.36%\n",
            "Loss for epoch 5: 58.4194\n",
            "  PRECISION: 100.00%, RECALL: 55.56%, F-SCORE: 71.43%\n",
            "Loss for epoch 6: 49.5219\n",
            "  PRECISION: 100.00%, RECALL: 77.78%, F-SCORE: 87.50%\n",
            "Loss for epoch 7: 40.8267\n",
            "  PRECISION: 75.00%, RECALL: 66.67%, F-SCORE: 70.59%\n",
            "Loss for epoch 8: 31.9692\n",
            "  PRECISION: 66.67%, RECALL: 66.67%, F-SCORE: 66.67%\n",
            "Loss for epoch 9: 24.3181\n",
            "  PRECISION: 60.00%, RECALL: 66.67%, F-SCORE: 63.16%\n",
            "Loss for epoch 10: 22.2311\n",
            "  PRECISION: 55.56%, RECALL: 55.56%, F-SCORE: 55.56%\n",
            "\n",
            "Evaluating model on development set:\n",
            "  PRECISION: 55.56%, RECALL: 55.56%, F-SCORE: 55.56%\n",
            "\n",
            "\n",
            "Size: 35\n",
            "\n",
            "Loss for epoch 1: 168.2813\n",
            "  PRECISION: 0.00%, RECALL: 0.00%, F-SCORE: 0.00%\n",
            "Loss for epoch 2: 84.2077\n",
            "  PRECISION: 0.00%, RECALL: 0.00%, F-SCORE: 0.00%\n",
            "Loss for epoch 3: 61.9403\n",
            "  PRECISION: 100.00%, RECALL: 9.09%, F-SCORE: 16.67%\n",
            "Loss for epoch 4: 52.4722\n",
            "  PRECISION: 50.00%, RECALL: 9.09%, F-SCORE: 15.38%\n",
            "Loss for epoch 5: 47.6669\n",
            "  PRECISION: 75.00%, RECALL: 27.27%, F-SCORE: 40.00%\n",
            "Loss for epoch 6: 31.8604\n",
            "  PRECISION: 33.33%, RECALL: 18.18%, F-SCORE: 23.53%\n",
            "Loss for epoch 7: 40.3653\n",
            "  PRECISION: 66.67%, RECALL: 36.36%, F-SCORE: 47.06%\n",
            "Loss for epoch 8: 30.8964\n",
            "  PRECISION: 33.33%, RECALL: 27.27%, F-SCORE: 30.00%\n",
            "Loss for epoch 9: 22.5525\n",
            "  PRECISION: 57.14%, RECALL: 36.36%, F-SCORE: 44.44%\n",
            "Loss for epoch 10: 36.2760\n",
            "  PRECISION: 37.50%, RECALL: 27.27%, F-SCORE: 31.58%\n",
            "\n",
            "Evaluating model on development set:\n",
            "  PRECISION: 37.50%, RECALL: 27.27%, F-SCORE: 31.58%\n",
            "\n",
            "\n",
            "Size: 40\n",
            "\n",
            "Loss for epoch 1: 184.8240\n",
            "  PRECISION: 0.00%, RECALL: 0.00%, F-SCORE: 0.00%\n",
            "Loss for epoch 2: 85.0933\n",
            "  PRECISION: 0.00%, RECALL: 0.00%, F-SCORE: 0.00%\n",
            "Loss for epoch 3: 65.9741\n",
            "  PRECISION: 33.33%, RECALL: 7.14%, F-SCORE: 11.76%\n",
            "Loss for epoch 4: 59.3301\n",
            "  PRECISION: 40.00%, RECALL: 14.29%, F-SCORE: 21.05%\n",
            "Loss for epoch 5: 50.1066\n",
            "  PRECISION: 37.50%, RECALL: 21.43%, F-SCORE: 27.27%\n",
            "Loss for epoch 6: 41.3386\n",
            "  PRECISION: 41.67%, RECALL: 35.71%, F-SCORE: 38.46%\n",
            "Loss for epoch 7: 25.3997\n",
            "  PRECISION: 60.00%, RECALL: 42.86%, F-SCORE: 50.00%\n",
            "Loss for epoch 8: 22.0809\n",
            "  PRECISION: 58.33%, RECALL: 50.00%, F-SCORE: 53.85%\n",
            "Loss for epoch 9: 9.7747\n",
            "  PRECISION: 58.33%, RECALL: 50.00%, F-SCORE: 53.85%\n",
            "Loss for epoch 10: 3.4077\n",
            "  PRECISION: 58.33%, RECALL: 50.00%, F-SCORE: 53.85%\n",
            "\n",
            "Evaluating model on development set:\n",
            "  PRECISION: 58.33%, RECALL: 50.00%, F-SCORE: 53.85%\n"
          ]
        }
      ]
    },
    {
      "cell_type": "code",
      "source": [
        "import matplotlib.pyplot as plt\n",
        "\n",
        "plt.plot(data_size, fscores)\n",
        "plt.xlabel('Data size')\n",
        "plt.ylabel('F-score')\n",
        "plt.show()"
      ],
      "metadata": {
        "colab": {
          "base_uri": "https://localhost:8080/",
          "height": 283
        },
        "id": "PxMa5LI_vwNn",
        "outputId": "0a8dfe9e-733c-4db0-f1e1-766b8be9635e"
      },
      "execution_count": 23,
      "outputs": [
        {
          "output_type": "display_data",
          "data": {
            "text/plain": [
              "<Figure size 432x288 with 1 Axes>"
            ],
            "image/png": "[encoded data removed]"
          },
          "metadata": {
            "needs_background": "light"
          }
        }
      ]
    },
    {
      "cell_type": "code",
      "source": [
        ""
      ],
      "metadata": {
        "id": "dq-gGEx8N8h4"
      },
      "execution_count": 23,
      "outputs": []
    }
  ]
}